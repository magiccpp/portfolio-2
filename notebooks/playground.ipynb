{
 "cells": [
  {
   "cell_type": "code",
   "execution_count": null,
   "metadata": {},
   "outputs": [],
   "source": [
    "import numpy as np\n",
    "from scipy.optimize import minimize\n",
    "\n",
    "def log_returns(prices):\n",
    "    return np.log(np.array(prices[1:]) / np.array(prices[:-1]))\n",
    "\n",
    "def negative_log_posterior(params, log_returns):\n",
    "    mu, sigma = params\n",
    "    if sigma <= 0:\n",
    "        return np.inf  # Constraint to ensure sigma is positive\n",
    "    # Calculating the negative log likelihood\n",
    "    n = len(log_returns)\n",
    "    expected = (mu - 0.5 * sigma**2)\n",
    "    log_likelihood = -n/2 * np.log(2 * np.pi * sigma**2) - np.sum((log_returns - expected) ** 2) / (2 * sigma**2)\n",
    "    # Simple prior: negative log (1/sigma) encourages sigma > 0\n",
    "    log_prior = np.log(sigma) if sigma > 0 else np.inf\n",
    "    # We return the negative of the sum because we are minimizing\n",
    "    return -(log_likelihood + log_prior)\n",
    "\n",
    "def estimate_params(prices):\n",
    "    log_ret = log_returns(prices)\n",
    "    # Initial guesses for mu and sigma\n",
    "    initial_guess = [np.mean(log_ret), np.std(log_ret)]\n",
    "    # Minimize the negative log posterior\n",
    "    result = minimize(negative_log_posterior, initial_guess, args=(log_ret,), bounds=[(None, None), (0, None)])\n",
    "    if result.success:\n",
    "        mu_est, sigma_est = result.x\n",
    "        return mu_est, sigma_est\n",
    "    else:\n",
    "        raise Exception(\"Optimization did not converge\")\n",
    "\n",
    "# Sample data: Replace this with your actual stock price data\n",
    "prices = [100, 102, 105, 103, 106, 108]\n",
    "mu_est, sigma_est = estimate_params(prices)\n",
    "print(\"Estimated mu:\", mu_est)\n",
    "print(\"Estimated sigma:\", sigma_est)\n"
   ]
  },
  {
   "cell_type": "code",
   "execution_count": null,
   "metadata": {},
   "outputs": [],
   "source": [
    "import numpy as np"
   ]
  },
  {
   "cell_type": "code",
   "execution_count": null,
   "metadata": {},
   "outputs": [],
   "source": [
    "a = np.array([[0.7, 0.22, 0.08], [0.53,0.29,0.18], [0.5,0.3,0.2]])"
   ]
  },
  {
   "cell_type": "code",
   "execution_count": null,
   "metadata": {},
   "outputs": [],
   "source": [
    "a @ a @ a"
   ]
  },
  {
   "cell_type": "code",
   "execution_count": null,
   "metadata": {},
   "outputs": [],
   "source": [
    "BASE_LINE_HORIZON = 256\n",
    "RISK_FREE_RATE = 0.05\n",
    "import os\n",
    "import pandas as pd\n",
    "import numpy as np\n",
    "def get_all_errors_and_mu(periods):\n",
    "  all_errors = None\n",
    "  all_mu = None\n",
    "  for time_horizon in periods:\n",
    "    data_dir = f'../processed_data_{time_horizon}'\n",
    "    df = pd.read_csv(os.path.join(data_dir, 'all_errors.csv'),  index_col=0, parse_dates=True)\n",
    "    # compute the mean of the errors\n",
    "    avg_err = df.mean(axis=1).mean()\n",
    "    df = df * np.sqrt(BASE_LINE_HORIZON / time_horizon)\n",
    "    print(f'Average error for time horizon {time_horizon}: {avg_err}')\n",
    "\n",
    "    df = df.add_suffix(f'_{time_horizon}')\n",
    "    mu = np.load(os.path.join(data_dir, 'mu.npy'))\n",
    "    mu = mu * (BASE_LINE_HORIZON / time_horizon) - RISK_FREE_RATE\n",
    "\n",
    "    if all_errors is None:\n",
    "      all_errors = df\n",
    "    else:\n",
    "      all_errors = pd.concat([all_errors, df], axis=1, join='outer')\n",
    "\n",
    "    if all_mu is None:\n",
    "      all_mu = mu\n",
    "    else:\n",
    "      all_mu = np.concatenate([all_mu, mu])\n",
    "\n",
    "  return all_errors, all_mu"
   ]
  },
  {
   "cell_type": "code",
   "execution_count": null,
   "metadata": {},
   "outputs": [],
   "source": [
    "periods = [8,16,32, 64,128,256]\n",
    "all_errors, all_mu = get_all_errors_and_mu([8,16,32, 64,128,256])"
   ]
  },
  {
   "cell_type": "code",
   "execution_count": null,
   "metadata": {},
   "outputs": [],
   "source": [
    "all_mu"
   ]
  },
  {
   "cell_type": "code",
   "execution_count": null,
   "metadata": {},
   "outputs": [],
   "source": [
    "all_errors.shape"
   ]
  },
  {
   "cell_type": "code",
   "execution_count": null,
   "metadata": {},
   "outputs": [],
   "source": [
    "all_mu.shape"
   ]
  },
  {
   "cell_type": "code",
   "execution_count": null,
   "metadata": {},
   "outputs": [],
   "source": [
    "all_errors.columns"
   ]
  },
  {
   "cell_type": "code",
   "execution_count": null,
   "metadata": {},
   "outputs": [],
   "source": [
    "idx = np.where(all_mu < 0)[0]\n",
    "idx"
   ]
  },
  {
   "cell_type": "code",
   "execution_count": null,
   "metadata": {},
   "outputs": [],
   "source": [
    "print(f'Number of assets with mu < 0): {len(idx)}')"
   ]
  },
  {
   "cell_type": "code",
   "execution_count": null,
   "metadata": {},
   "outputs": [],
   "source": [
    "all_errors.columns[idx]"
   ]
  },
  {
   "cell_type": "code",
   "execution_count": null,
   "metadata": {},
   "outputs": [],
   "source": [
    "remove_columns = set()\n",
    "for asset in all_errors.columns[idx]:\n",
    "  asset_name = asset.split('_')[0]\n",
    "  asset_period = int(asset.split('_')[1])\n",
    "  for time_horizon in [32, 64, 128, 256]:\n",
    "    if time_horizon >= asset_period:\n",
    "      remove_columns.add(f'{asset_name}_{time_horizon}')\n",
    "  "
   ]
  },
  {
   "cell_type": "code",
   "execution_count": null,
   "metadata": {},
   "outputs": [],
   "source": [
    "remove_columns = sorted(list(remove_columns))"
   ]
  },
  {
   "cell_type": "code",
   "execution_count": null,
   "metadata": {},
   "outputs": [],
   "source": [
    "len(remove_columns)"
   ]
  },
  {
   "cell_type": "code",
   "execution_count": null,
   "metadata": {},
   "outputs": [],
   "source": [
    "# find the indices of the columns to remove\n",
    "indices = [all_errors.columns.get_loc(col) for col in sorted(remove_columns)]"
   ]
  },
  {
   "cell_type": "code",
   "execution_count": null,
   "metadata": {},
   "outputs": [],
   "source": [
    "indices"
   ]
  },
  {
   "cell_type": "code",
   "execution_count": null,
   "metadata": {},
   "outputs": [],
   "source": [
    "remove_columns"
   ]
  },
  {
   "cell_type": "code",
   "execution_count": null,
   "metadata": {},
   "outputs": [],
   "source": [
    "len(remove_columns)"
   ]
  },
  {
   "cell_type": "code",
   "execution_count": null,
   "metadata": {},
   "outputs": [],
   "source": []
  }
 ],
 "metadata": {
  "kernelspec": {
   "display_name": "stock",
   "language": "python",
   "name": "python3"
  },
  "language_info": {
   "codemirror_mode": {
    "name": "ipython",
    "version": 3
   },
   "file_extension": ".py",
   "mimetype": "text/x-python",
   "name": "python",
   "nbconvert_exporter": "python",
   "pygments_lexer": "ipython3",
   "version": "3.11.5"
  }
 },
 "nbformat": 4,
 "nbformat_minor": 2
}
