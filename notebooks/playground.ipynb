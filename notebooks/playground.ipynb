{
 "cells": [
  {
   "cell_type": "code",
   "execution_count": 1,
   "metadata": {},
   "outputs": [
    {
     "name": "stdout",
     "output_type": "stream",
     "text": [
      "Estimated mu: 0.01559111988567422\n",
      "Estimated sigma: 0.019945747827457654\n"
     ]
    }
   ],
   "source": [
    "import numpy as np\n",
    "from scipy.optimize import minimize\n",
    "\n",
    "def log_returns(prices):\n",
    "    return np.log(np.array(prices[1:]) / np.array(prices[:-1]))\n",
    "\n",
    "def negative_log_posterior(params, log_returns):\n",
    "    mu, sigma = params\n",
    "    if sigma <= 0:\n",
    "        return np.inf  # Constraint to ensure sigma is positive\n",
    "    # Calculating the negative log likelihood\n",
    "    n = len(log_returns)\n",
    "    expected = (mu - 0.5 * sigma**2)\n",
    "    log_likelihood = -n/2 * np.log(2 * np.pi * sigma**2) - np.sum((log_returns - expected) ** 2) / (2 * sigma**2)\n",
    "    # Simple prior: negative log (1/sigma) encourages sigma > 0\n",
    "    log_prior = np.log(sigma) if sigma > 0 else np.inf\n",
    "    # We return the negative of the sum because we are minimizing\n",
    "    return -(log_likelihood + log_prior)\n",
    "\n",
    "def estimate_params(prices):\n",
    "    log_ret = log_returns(prices)\n",
    "    # Initial guesses for mu and sigma\n",
    "    initial_guess = [np.mean(log_ret), np.std(log_ret)]\n",
    "    # Minimize the negative log posterior\n",
    "    result = minimize(negative_log_posterior, initial_guess, args=(log_ret,), bounds=[(None, None), (0, None)])\n",
    "    if result.success:\n",
    "        mu_est, sigma_est = result.x\n",
    "        return mu_est, sigma_est\n",
    "    else:\n",
    "        raise Exception(\"Optimization did not converge\")\n",
    "\n",
    "# Sample data: Replace this with your actual stock price data\n",
    "prices = [100, 102, 105, 103, 106, 108]\n",
    "mu_est, sigma_est = estimate_params(prices)\n",
    "print(\"Estimated mu:\", mu_est)\n",
    "print(\"Estimated sigma:\", sigma_est)\n"
   ]
  },
  {
   "cell_type": "code",
   "execution_count": null,
   "metadata": {},
   "outputs": [],
   "source": []
  }
 ],
 "metadata": {
  "kernelspec": {
   "display_name": "stock",
   "language": "python",
   "name": "python3"
  },
  "language_info": {
   "codemirror_mode": {
    "name": "ipython",
    "version": 3
   },
   "file_extension": ".py",
   "mimetype": "text/x-python",
   "name": "python",
   "nbconvert_exporter": "python",
   "pygments_lexer": "ipython3",
   "version": "3.11.5"
  }
 },
 "nbformat": 4,
 "nbformat_minor": 2
}
