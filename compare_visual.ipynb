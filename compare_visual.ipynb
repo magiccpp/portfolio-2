{
 "cells": [
  {
   "cell_type": "code",
   "execution_count": 129,
   "metadata": {},
   "outputs": [],
   "source": [
    "# to compare model and human brain\n",
    "import pandas as pd\n",
    "import numpy as np"
   ]
  },
  {
   "cell_type": "code",
   "execution_count": 130,
   "metadata": {},
   "outputs": [],
   "source": [
    "model_trace_log = [\n",
    "  {\n",
    "    \"date\": \"2024-05-15\",\n",
    "    \"weights\": [\n",
    "      {\n",
    "        \"id\": \"STAN.L\",\n",
    "        \"weight\": 0.0988379414494704\n",
    "      },\n",
    "      {\n",
    "        \"id\": \"KO\",\n",
    "        \"weight\": 0.10885514872237066\n",
    "      },\n",
    "      {\n",
    "        \"id\": \"LLY\",\n",
    "        \"weight\": 0.16274045692599903\n",
    "      },\n",
    "      {\n",
    "        \"id\": \"GILD\",\n",
    "        \"weight\": 0.0982685011890021\n",
    "      },\n",
    "      {\n",
    "        \"id\": \"MRK\",\n",
    "        \"weight\": 0.09608726469000152\n",
    "      },\n",
    "      {\n",
    "        \"id\": \"NOW\",\n",
    "        \"weight\": 0.10724631420200852\n",
    "      },\n",
    "      {\n",
    "        \"id\": \"VRTX\",\n",
    "        \"weight\": 0.14695857799430817\n",
    "      },\n",
    "      {\n",
    "        \"id\": \"WMT\",\n",
    "        \"weight\": 0.18100579482683965\n",
    "      }\n",
    "    ]\n",
    "  },\n",
    "  {\n",
    "    \"date\": \"2024-05-16\",\n",
    "    \"weights\": [\n",
    "      {\n",
    "        \"id\": \"CHD\",\n",
    "        \"weight\": 0.09604227989932394\n",
    "      },\n",
    "      {\n",
    "        \"id\": \"LLY\",\n",
    "        \"weight\": 0.15701155301162809\n",
    "      },\n",
    "      {\n",
    "        \"id\": \"GILD\",\n",
    "        \"weight\": 0.08309850279939462\n",
    "      },\n",
    "      {\n",
    "        \"id\": \"MCK\",\n",
    "        \"weight\": 0.15491295395567367\n",
    "      },\n",
    "      {\n",
    "        \"id\": \"MRK\",\n",
    "        \"weight\": 0.12300274846059159\n",
    "      },\n",
    "      {\n",
    "        \"id\": \"NOW\",\n",
    "        \"weight\": 0.0998352785021135\n",
    "      },\n",
    "      {\n",
    "        \"id\": \"VRTX\",\n",
    "        \"weight\": 0.10564614375465124\n",
    "      },\n",
    "      {\n",
    "        \"id\": \"WMT\",\n",
    "        \"weight\": 0.18045053961662333\n",
    "      }\n",
    "    ]\n",
    "  }, \n",
    "  {\n",
    "    \"date\": \"2024-05-22\",\n",
    "    \"weights\": [\n",
    "        {\n",
    "          \"id\": \"KO\",\n",
    "          \"weight\": 0.10274849558771942 \n",
    "        },\n",
    "        {\n",
    "          \"id\": \"LLY\",\n",
    "          \"weight\": 0.1566002200958428 \n",
    "        },\n",
    "        {\n",
    "          \"id\": \"GILD\",\n",
    "          \"weight\": 0.08707934623088542\n",
    "        },\n",
    "        {\n",
    "          \"id\": \"J\",\n",
    "          \"weight\": 0.11359767227893916 \n",
    "        },\n",
    "        {\n",
    "          \"id\": \"MRK\",\n",
    "          \"weight\": 0.10567158852690067 \n",
    "        },\n",
    "        {\n",
    "          \"id\": \"NOW\",\n",
    "          \"weight\": 0.11206722758523373 \n",
    "        },\n",
    "        {\n",
    "          \"id\": \"VRTX\",\n",
    "          \"weight\": 0.142924247158989 \n",
    "        },\n",
    "        {\n",
    "          \"id\": \"WMT\",\n",
    "          \"weight\": 0.17931120253548977 \n",
    "        }\n",
    "      ]\n",
    "  },\n",
    "  {\n",
    "    \"date\": \"2024-06-01\",\n",
    "    \"weights\": [\n",
    "        {\n",
    "            \"id\": \"STAN.L\",\n",
    "            \"weight\": 0.106245301545285\n",
    "        },\n",
    "        {\n",
    "            \"id\": \"AMZN\",\n",
    "            \"weight\": 0.09037791409635497\n",
    "        },\n",
    "        {\n",
    "            \"id\": \"LLY\",\n",
    "            \"weight\": 0.18066205466354265\n",
    "        },\n",
    "        {\n",
    "            \"id\": \"GILD\",\n",
    "            \"weight\": 0.10429883667213788\n",
    "        },\n",
    "        {\n",
    "            \"id\": \"JKHY\",\n",
    "            \"weight\": 0.15709184770148668\n",
    "        },\n",
    "        {\n",
    "            \"id\": \"MRK\",\n",
    "            \"weight\": 0.18066197376224616\n",
    "        },\n",
    "        {\n",
    "            \"id\": \"NVR\",\n",
    "            \"weight\": 0.18066207155894576\n",
    "        }\n",
    "      ]\n",
    "  },\n",
    "]\n",
    "\n",
    "human_trace_log = [{\n",
    "  \"date\": \"2024-05-15\",\n",
    "  \"weights\": [\n",
    "    {\n",
    "      \"id\": \"ARM\",\n",
    "      \"weight\": 0.2\n",
    "    },\n",
    "    {\n",
    "      \"id\": \"INTC\",\n",
    "      \"weight\": 0.1\n",
    "    },\n",
    "    {\n",
    "      \"id\": \"MSFT\",\n",
    "      \"weight\": 0.1\n",
    "    },\n",
    "    {\n",
    "      \"id\": \"NVDA\",\n",
    "      \"weight\": 0.1\n",
    "    },\n",
    "    {\n",
    "      \"id\": \"SAAB-B.ST\",\n",
    "      \"weight\": 0.1\n",
    "    },\n",
    "    {\n",
    "      \"id\": \"RHM.DE\",\n",
    "      \"weight\": 0.1\n",
    "    },\n",
    "    {\n",
    "      \"id\": \"BA.L\",\n",
    "      \"weight\": 0.1\n",
    "    },\n",
    "    {\n",
    "      \"id\": \"MU\",\n",
    "      \"weight\": 0.1\n",
    "    }\n",
    "  ]\n",
    "}]"
   ]
  },
  {
   "cell_type": "code",
   "execution_count": 131,
   "metadata": {},
   "outputs": [],
   "source": [
    "# Extract unique stock ids and determine the overall period for analysis\n",
    "unique_ids = set()\n",
    "for log in model_trace_log:\n",
    "    for asset in log['weights']:\n",
    "        unique_ids.add(asset['id'])\n",
    "\n",
    "for log in human_trace_log:\n",
    "    for asset in log['weights']:\n",
    "        unique_ids.add(asset['id'])"
   ]
  },
  {
   "cell_type": "code",
   "execution_count": 132,
   "metadata": {},
   "outputs": [],
   "source": [
    "unique_ids.add('^GSPC')"
   ]
  },
  {
   "cell_type": "code",
   "execution_count": 133,
   "metadata": {},
   "outputs": [
    {
     "name": "stderr",
     "output_type": "stream",
     "text": [
      "[*********************100%%**********************]  20 of 20 completed\n"
     ]
    }
   ],
   "source": [
    "from pandas_datareader import data as pdr\n",
    "import yfinance as yfin\n",
    "\n",
    "yfin.pdr_override() \n",
    "\n",
    "stocks_data = pdr.get_data_yahoo(list(unique_ids), start='2024-05-14', end=None)['Adj Close']\n"
   ]
  },
  {
   "cell_type": "code",
   "execution_count": 134,
   "metadata": {},
   "outputs": [
    {
     "data": {
      "text/plain": [
       "{'ARM',\n",
       " 'BA.L',\n",
       " 'CHD',\n",
       " 'GILD',\n",
       " 'INTC',\n",
       " 'J',\n",
       " 'KO',\n",
       " 'LLY',\n",
       " 'MCK',\n",
       " 'MRK',\n",
       " 'MSFT',\n",
       " 'MU',\n",
       " 'NOW',\n",
       " 'NVDA',\n",
       " 'RHM.DE',\n",
       " 'SAAB-B.ST',\n",
       " 'STAN.L',\n",
       " 'VRTX',\n",
       " 'WMT',\n",
       " '^GSPC'}"
      ]
     },
     "execution_count": 134,
     "metadata": {},
     "output_type": "execute_result"
    }
   ],
   "source": [
    "unique_ids"
   ]
  },
  {
   "cell_type": "code",
   "execution_count": 135,
   "metadata": {},
   "outputs": [
    {
     "name": "stderr",
     "output_type": "stream",
     "text": [
      "/tmp/ipykernel_2226235/1838459011.py:1: FutureWarning:\n",
      "\n",
      "DataFrame.fillna with 'method' is deprecated and will raise in a future version. Use obj.ffill() or obj.bfill() instead.\n",
      "\n"
     ]
    }
   ],
   "source": [
    "stocks_data.fillna(method='ffill', inplace=True)\n",
    "sp500_data = stocks_data['^GSPC']"
   ]
  },
  {
   "cell_type": "code",
   "execution_count": 136,
   "metadata": {},
   "outputs": [],
   "source": [
    "# remove ^GSPC from stocks_data\n",
    "stocks_data.drop(columns=['^GSPC'], inplace=True)\n",
    "\n",
    "# remove ^GSPC from unique_ids\n",
    "unique_ids.remove('^GSPC')"
   ]
  },
  {
   "cell_type": "code",
   "execution_count": 137,
   "metadata": {},
   "outputs": [],
   "source": [
    "sp500_log_return = pd.DataFrame(np.log(sp500_data)).diff()[1:]"
   ]
  },
  {
   "cell_type": "code",
   "execution_count": 138,
   "metadata": {},
   "outputs": [],
   "source": [
    "import numpy as np\n",
    "log_return = pd.DataFrame(np.log(stocks_data)).diff()[1:]"
   ]
  },
  {
   "cell_type": "code",
   "execution_count": 139,
   "metadata": {},
   "outputs": [
    {
     "data": {
      "text/html": [
       "<div>\n",
       "<style scoped>\n",
       "    .dataframe tbody tr th:only-of-type {\n",
       "        vertical-align: middle;\n",
       "    }\n",
       "\n",
       "    .dataframe tbody tr th {\n",
       "        vertical-align: top;\n",
       "    }\n",
       "\n",
       "    .dataframe thead th {\n",
       "        text-align: right;\n",
       "    }\n",
       "</style>\n",
       "<table border=\"1\" class=\"dataframe\">\n",
       "  <thead>\n",
       "    <tr style=\"text-align: right;\">\n",
       "      <th>Ticker</th>\n",
       "      <th>ARM</th>\n",
       "      <th>BA.L</th>\n",
       "      <th>CHD</th>\n",
       "      <th>GILD</th>\n",
       "      <th>INTC</th>\n",
       "      <th>J</th>\n",
       "      <th>KO</th>\n",
       "      <th>LLY</th>\n",
       "      <th>MCK</th>\n",
       "      <th>MRK</th>\n",
       "      <th>MSFT</th>\n",
       "      <th>MU</th>\n",
       "      <th>NOW</th>\n",
       "      <th>NVDA</th>\n",
       "      <th>RHM.DE</th>\n",
       "      <th>SAAB-B.ST</th>\n",
       "      <th>STAN.L</th>\n",
       "      <th>VRTX</th>\n",
       "      <th>WMT</th>\n",
       "    </tr>\n",
       "    <tr>\n",
       "      <th>Date</th>\n",
       "      <th></th>\n",
       "      <th></th>\n",
       "      <th></th>\n",
       "      <th></th>\n",
       "      <th></th>\n",
       "      <th></th>\n",
       "      <th></th>\n",
       "      <th></th>\n",
       "      <th></th>\n",
       "      <th></th>\n",
       "      <th></th>\n",
       "      <th></th>\n",
       "      <th></th>\n",
       "      <th></th>\n",
       "      <th></th>\n",
       "      <th></th>\n",
       "      <th></th>\n",
       "      <th></th>\n",
       "      <th></th>\n",
       "    </tr>\n",
       "  </thead>\n",
       "  <tbody>\n",
       "    <tr>\n",
       "      <th>2024-05-15</th>\n",
       "      <td>-0.025879</td>\n",
       "      <td>0.008103</td>\n",
       "      <td>0.003271</td>\n",
       "      <td>-0.009505</td>\n",
       "      <td>0.007060</td>\n",
       "      <td>-0.001161</td>\n",
       "      <td>0.000475</td>\n",
       "      <td>0.031415</td>\n",
       "      <td>-0.000036</td>\n",
       "      <td>0.023581</td>\n",
       "      <td>0.017333</td>\n",
       "      <td>0.023752</td>\n",
       "      <td>0.052569</td>\n",
       "      <td>0.035211</td>\n",
       "      <td>-0.000970</td>\n",
       "      <td>0.019769</td>\n",
       "      <td>-0.005410</td>\n",
       "      <td>0.020553</td>\n",
       "      <td>-0.000501</td>\n",
       "    </tr>\n",
       "    <tr>\n",
       "      <th>2024-05-16</th>\n",
       "      <td>0.005265</td>\n",
       "      <td>0.000733</td>\n",
       "      <td>-0.004676</td>\n",
       "      <td>0.012605</td>\n",
       "      <td>0.024014</td>\n",
       "      <td>0.000290</td>\n",
       "      <td>0.003005</td>\n",
       "      <td>-0.020410</td>\n",
       "      <td>0.007586</td>\n",
       "      <td>-0.006473</td>\n",
       "      <td>-0.004952</td>\n",
       "      <td>0.000626</td>\n",
       "      <td>-0.003372</td>\n",
       "      <td>-0.002868</td>\n",
       "      <td>-0.003888</td>\n",
       "      <td>0.013525</td>\n",
       "      <td>0.014872</td>\n",
       "      <td>0.007174</td>\n",
       "      <td>0.067532</td>\n",
       "    </tr>\n",
       "    <tr>\n",
       "      <th>2024-05-17</th>\n",
       "      <td>-0.034907</td>\n",
       "      <td>-0.001835</td>\n",
       "      <td>-0.002722</td>\n",
       "      <td>-0.002065</td>\n",
       "      <td>-0.006264</td>\n",
       "      <td>-0.009555</td>\n",
       "      <td>-0.004590</td>\n",
       "      <td>-0.001453</td>\n",
       "      <td>0.015639</td>\n",
       "      <td>0.002366</td>\n",
       "      <td>-0.001854</td>\n",
       "      <td>-0.020539</td>\n",
       "      <td>0.009245</td>\n",
       "      <td>-0.020125</td>\n",
       "      <td>-0.002731</td>\n",
       "      <td>0.006695</td>\n",
       "      <td>-0.005359</td>\n",
       "      <td>0.010318</td>\n",
       "      <td>0.009949</td>\n",
       "    </tr>\n",
       "    <tr>\n",
       "      <th>2024-05-20</th>\n",
       "      <td>0.000996</td>\n",
       "      <td>0.007682</td>\n",
       "      <td>0.001127</td>\n",
       "      <td>0.002654</td>\n",
       "      <td>0.008447</td>\n",
       "      <td>0.003293</td>\n",
       "      <td>-0.007325</td>\n",
       "      <td>0.016972</td>\n",
       "      <td>-0.000922</td>\n",
       "      <td>-0.001526</td>\n",
       "      <td>0.012134</td>\n",
       "      <td>0.029181</td>\n",
       "      <td>0.011863</td>\n",
       "      <td>0.024577</td>\n",
       "      <td>0.036814</td>\n",
       "      <td>0.008719</td>\n",
       "      <td>0.003831</td>\n",
       "      <td>0.001481</td>\n",
       "      <td>-0.007296</td>\n",
       "    </tr>\n",
       "    <tr>\n",
       "      <th>2024-05-21</th>\n",
       "      <td>0.038277</td>\n",
       "      <td>0.010874</td>\n",
       "      <td>0.005151</td>\n",
       "      <td>-0.009024</td>\n",
       "      <td>-0.011278</td>\n",
       "      <td>0.013784</td>\n",
       "      <td>0.005419</td>\n",
       "      <td>0.025204</td>\n",
       "      <td>-0.020800</td>\n",
       "      <td>-0.001757</td>\n",
       "      <td>0.008661</td>\n",
       "      <td>-0.011696</td>\n",
       "      <td>0.003700</td>\n",
       "      <td>0.006373</td>\n",
       "      <td>-0.007938</td>\n",
       "      <td>0.016807</td>\n",
       "      <td>-0.007420</td>\n",
       "      <td>-0.008718</td>\n",
       "      <td>0.015001</td>\n",
       "    </tr>\n",
       "    <tr>\n",
       "      <th>2024-05-22</th>\n",
       "      <td>-0.020599</td>\n",
       "      <td>-0.009781</td>\n",
       "      <td>0.002332</td>\n",
       "      <td>0.007551</td>\n",
       "      <td>-0.010133</td>\n",
       "      <td>-0.006651</td>\n",
       "      <td>0.001430</td>\n",
       "      <td>-0.000324</td>\n",
       "      <td>0.008993</td>\n",
       "      <td>0.002597</td>\n",
       "      <td>0.003444</td>\n",
       "      <td>-0.009615</td>\n",
       "      <td>-0.008037</td>\n",
       "      <td>-0.004581</td>\n",
       "      <td>-0.009533</td>\n",
       "      <td>0.002030</td>\n",
       "      <td>-0.007993</td>\n",
       "      <td>0.012434</td>\n",
       "      <td>0.001534</td>\n",
       "    </tr>\n",
       "    <tr>\n",
       "      <th>2024-05-23</th>\n",
       "      <td>0.000889</td>\n",
       "      <td>0.016965</td>\n",
       "      <td>-0.008328</td>\n",
       "      <td>-0.024335</td>\n",
       "      <td>-0.043584</td>\n",
       "      <td>0.006809</td>\n",
       "      <td>-0.014550</td>\n",
       "      <td>0.006876</td>\n",
       "      <td>0.001166</td>\n",
       "      <td>-0.000076</td>\n",
       "      <td>-0.008210</td>\n",
       "      <td>-0.000079</td>\n",
       "      <td>-0.016587</td>\n",
       "      <td>0.089106</td>\n",
       "      <td>0.022728</td>\n",
       "      <td>0.012097</td>\n",
       "      <td>0.003618</td>\n",
       "      <td>0.007280</td>\n",
       "      <td>-0.006303</td>\n",
       "    </tr>\n",
       "    <tr>\n",
       "      <th>2024-05-24</th>\n",
       "      <td>0.018577</td>\n",
       "      <td>-0.007905</td>\n",
       "      <td>0.000470</td>\n",
       "      <td>-0.007433</td>\n",
       "      <td>0.021053</td>\n",
       "      <td>0.014193</td>\n",
       "      <td>-0.001451</td>\n",
       "      <td>-0.001262</td>\n",
       "      <td>0.004827</td>\n",
       "      <td>-0.012280</td>\n",
       "      <td>0.007373</td>\n",
       "      <td>0.025181</td>\n",
       "      <td>-0.026247</td>\n",
       "      <td>0.025397</td>\n",
       "      <td>-0.006011</td>\n",
       "      <td>0.002402</td>\n",
       "      <td>0.003090</td>\n",
       "      <td>0.013550</td>\n",
       "      <td>0.008294</td>\n",
       "    </tr>\n",
       "    <tr>\n",
       "      <th>2024-05-27</th>\n",
       "      <td>0.000000</td>\n",
       "      <td>0.000000</td>\n",
       "      <td>0.000000</td>\n",
       "      <td>0.000000</td>\n",
       "      <td>0.000000</td>\n",
       "      <td>0.000000</td>\n",
       "      <td>0.000000</td>\n",
       "      <td>0.000000</td>\n",
       "      <td>0.000000</td>\n",
       "      <td>0.000000</td>\n",
       "      <td>0.000000</td>\n",
       "      <td>0.000000</td>\n",
       "      <td>0.000000</td>\n",
       "      <td>0.000000</td>\n",
       "      <td>0.002634</td>\n",
       "      <td>0.002795</td>\n",
       "      <td>0.000000</td>\n",
       "      <td>0.000000</td>\n",
       "      <td>0.000000</td>\n",
       "    </tr>\n",
       "    <tr>\n",
       "      <th>2024-05-28</th>\n",
       "      <td>0.086037</td>\n",
       "      <td>-0.010517</td>\n",
       "      <td>-0.021935</td>\n",
       "      <td>-0.026849</td>\n",
       "      <td>0.011007</td>\n",
       "      <td>-0.021511</td>\n",
       "      <td>-0.002907</td>\n",
       "      <td>0.000532</td>\n",
       "      <td>-0.020668</td>\n",
       "      <td>-0.026608</td>\n",
       "      <td>0.000372</td>\n",
       "      <td>0.024261</td>\n",
       "      <td>-0.013153</td>\n",
       "      <td>0.067476</td>\n",
       "      <td>-0.016291</td>\n",
       "      <td>-0.013245</td>\n",
       "      <td>-0.004639</td>\n",
       "      <td>-0.022284</td>\n",
       "      <td>-0.005214</td>\n",
       "    </tr>\n",
       "    <tr>\n",
       "      <th>2024-05-29</th>\n",
       "      <td>-0.034940</td>\n",
       "      <td>-0.006951</td>\n",
       "      <td>-0.008194</td>\n",
       "      <td>-0.006905</td>\n",
       "      <td>-0.030399</td>\n",
       "      <td>-0.024962</td>\n",
       "      <td>-0.001943</td>\n",
       "      <td>0.004533</td>\n",
       "      <td>0.017381</td>\n",
       "      <td>-0.001508</td>\n",
       "      <td>-0.002676</td>\n",
       "      <td>-0.008250</td>\n",
       "      <td>0.003096</td>\n",
       "      <td>0.008080</td>\n",
       "      <td>-0.016561</td>\n",
       "      <td>-0.049275</td>\n",
       "      <td>-0.004920</td>\n",
       "      <td>-0.012950</td>\n",
       "      <td>-0.001847</td>\n",
       "    </tr>\n",
       "    <tr>\n",
       "      <th>2024-05-30</th>\n",
       "      <td>0.000663</td>\n",
       "      <td>0.008044</td>\n",
       "      <td>0.010112</td>\n",
       "      <td>0.009092</td>\n",
       "      <td>0.001989</td>\n",
       "      <td>0.023943</td>\n",
       "      <td>0.004366</td>\n",
       "      <td>0.004340</td>\n",
       "      <td>0.003697</td>\n",
       "      <td>-0.010941</td>\n",
       "      <td>-0.034370</td>\n",
       "      <td>-0.041034</td>\n",
       "      <td>-0.127982</td>\n",
       "      <td>-0.038394</td>\n",
       "      <td>0.003102</td>\n",
       "      <td>0.018503</td>\n",
       "      <td>0.014177</td>\n",
       "      <td>0.004343</td>\n",
       "      <td>-0.000462</td>\n",
       "    </tr>\n",
       "    <tr>\n",
       "      <th>2024-05-31</th>\n",
       "      <td>-0.001741</td>\n",
       "      <td>0.013743</td>\n",
       "      <td>0.025076</td>\n",
       "      <td>0.002961</td>\n",
       "      <td>0.021626</td>\n",
       "      <td>0.014239</td>\n",
       "      <td>0.015373</td>\n",
       "      <td>0.006457</td>\n",
       "      <td>0.015267</td>\n",
       "      <td>0.008078</td>\n",
       "      <td>0.001109</td>\n",
       "      <td>-0.010267</td>\n",
       "      <td>0.020982</td>\n",
       "      <td>-0.007877</td>\n",
       "      <td>0.021449</td>\n",
       "      <td>0.054330</td>\n",
       "      <td>-0.005132</td>\n",
       "      <td>0.027362</td>\n",
       "      <td>0.013318</td>\n",
       "    </tr>\n",
       "  </tbody>\n",
       "</table>\n",
       "</div>"
      ],
      "text/plain": [
       "Ticker           ARM      BA.L       CHD      GILD      INTC         J  \\\n",
       "Date                                                                     \n",
       "2024-05-15 -0.025879  0.008103  0.003271 -0.009505  0.007060 -0.001161   \n",
       "2024-05-16  0.005265  0.000733 -0.004676  0.012605  0.024014  0.000290   \n",
       "2024-05-17 -0.034907 -0.001835 -0.002722 -0.002065 -0.006264 -0.009555   \n",
       "2024-05-20  0.000996  0.007682  0.001127  0.002654  0.008447  0.003293   \n",
       "2024-05-21  0.038277  0.010874  0.005151 -0.009024 -0.011278  0.013784   \n",
       "2024-05-22 -0.020599 -0.009781  0.002332  0.007551 -0.010133 -0.006651   \n",
       "2024-05-23  0.000889  0.016965 -0.008328 -0.024335 -0.043584  0.006809   \n",
       "2024-05-24  0.018577 -0.007905  0.000470 -0.007433  0.021053  0.014193   \n",
       "2024-05-27  0.000000  0.000000  0.000000  0.000000  0.000000  0.000000   \n",
       "2024-05-28  0.086037 -0.010517 -0.021935 -0.026849  0.011007 -0.021511   \n",
       "2024-05-29 -0.034940 -0.006951 -0.008194 -0.006905 -0.030399 -0.024962   \n",
       "2024-05-30  0.000663  0.008044  0.010112  0.009092  0.001989  0.023943   \n",
       "2024-05-31 -0.001741  0.013743  0.025076  0.002961  0.021626  0.014239   \n",
       "\n",
       "Ticker            KO       LLY       MCK       MRK      MSFT        MU  \\\n",
       "Date                                                                     \n",
       "2024-05-15  0.000475  0.031415 -0.000036  0.023581  0.017333  0.023752   \n",
       "2024-05-16  0.003005 -0.020410  0.007586 -0.006473 -0.004952  0.000626   \n",
       "2024-05-17 -0.004590 -0.001453  0.015639  0.002366 -0.001854 -0.020539   \n",
       "2024-05-20 -0.007325  0.016972 -0.000922 -0.001526  0.012134  0.029181   \n",
       "2024-05-21  0.005419  0.025204 -0.020800 -0.001757  0.008661 -0.011696   \n",
       "2024-05-22  0.001430 -0.000324  0.008993  0.002597  0.003444 -0.009615   \n",
       "2024-05-23 -0.014550  0.006876  0.001166 -0.000076 -0.008210 -0.000079   \n",
       "2024-05-24 -0.001451 -0.001262  0.004827 -0.012280  0.007373  0.025181   \n",
       "2024-05-27  0.000000  0.000000  0.000000  0.000000  0.000000  0.000000   \n",
       "2024-05-28 -0.002907  0.000532 -0.020668 -0.026608  0.000372  0.024261   \n",
       "2024-05-29 -0.001943  0.004533  0.017381 -0.001508 -0.002676 -0.008250   \n",
       "2024-05-30  0.004366  0.004340  0.003697 -0.010941 -0.034370 -0.041034   \n",
       "2024-05-31  0.015373  0.006457  0.015267  0.008078  0.001109 -0.010267   \n",
       "\n",
       "Ticker           NOW      NVDA    RHM.DE  SAAB-B.ST    STAN.L      VRTX  \\\n",
       "Date                                                                      \n",
       "2024-05-15  0.052569  0.035211 -0.000970   0.019769 -0.005410  0.020553   \n",
       "2024-05-16 -0.003372 -0.002868 -0.003888   0.013525  0.014872  0.007174   \n",
       "2024-05-17  0.009245 -0.020125 -0.002731   0.006695 -0.005359  0.010318   \n",
       "2024-05-20  0.011863  0.024577  0.036814   0.008719  0.003831  0.001481   \n",
       "2024-05-21  0.003700  0.006373 -0.007938   0.016807 -0.007420 -0.008718   \n",
       "2024-05-22 -0.008037 -0.004581 -0.009533   0.002030 -0.007993  0.012434   \n",
       "2024-05-23 -0.016587  0.089106  0.022728   0.012097  0.003618  0.007280   \n",
       "2024-05-24 -0.026247  0.025397 -0.006011   0.002402  0.003090  0.013550   \n",
       "2024-05-27  0.000000  0.000000  0.002634   0.002795  0.000000  0.000000   \n",
       "2024-05-28 -0.013153  0.067476 -0.016291  -0.013245 -0.004639 -0.022284   \n",
       "2024-05-29  0.003096  0.008080 -0.016561  -0.049275 -0.004920 -0.012950   \n",
       "2024-05-30 -0.127982 -0.038394  0.003102   0.018503  0.014177  0.004343   \n",
       "2024-05-31  0.020982 -0.007877  0.021449   0.054330 -0.005132  0.027362   \n",
       "\n",
       "Ticker           WMT  \n",
       "Date                  \n",
       "2024-05-15 -0.000501  \n",
       "2024-05-16  0.067532  \n",
       "2024-05-17  0.009949  \n",
       "2024-05-20 -0.007296  \n",
       "2024-05-21  0.015001  \n",
       "2024-05-22  0.001534  \n",
       "2024-05-23 -0.006303  \n",
       "2024-05-24  0.008294  \n",
       "2024-05-27  0.000000  \n",
       "2024-05-28 -0.005214  \n",
       "2024-05-29 -0.001847  \n",
       "2024-05-30 -0.000462  \n",
       "2024-05-31  0.013318  "
      ]
     },
     "execution_count": 139,
     "metadata": {},
     "output_type": "execute_result"
    }
   ],
   "source": [
    "log_return"
   ]
  },
  {
   "cell_type": "code",
   "execution_count": 140,
   "metadata": {},
   "outputs": [
    {
     "data": {
      "text/plain": [
       "['ARM',\n",
       " 'BA.L',\n",
       " 'CHD',\n",
       " 'GILD',\n",
       " 'INTC',\n",
       " 'J',\n",
       " 'KO',\n",
       " 'LLY',\n",
       " 'MCK',\n",
       " 'MRK',\n",
       " 'MSFT',\n",
       " 'MU',\n",
       " 'NOW',\n",
       " 'NVDA',\n",
       " 'RHM.DE',\n",
       " 'SAAB-B.ST',\n",
       " 'STAN.L',\n",
       " 'VRTX',\n",
       " 'WMT']"
      ]
     },
     "execution_count": 140,
     "metadata": {},
     "output_type": "execute_result"
    }
   ],
   "source": [
    "sorted(unique_ids)"
   ]
  },
  {
   "cell_type": "code",
   "execution_count": 141,
   "metadata": {},
   "outputs": [],
   "source": [
    "start_date = pd.to_datetime(model_trace_log[0]['date'])"
   ]
  },
  {
   "cell_type": "code",
   "execution_count": null,
   "metadata": {},
   "outputs": [],
   "source": []
  },
  {
   "cell_type": "code",
   "execution_count": 142,
   "metadata": {},
   "outputs": [],
   "source": [
    "def update_weight(weights_attr, unique_ids):\n",
    "  weights = np.zeros(len(unique_ids))\n",
    "  for asset in weights_attr:\n",
    "    asset_id = asset['id']\n",
    "    asset_weight = asset['weight']\n",
    "    asset_index = sorted(unique_ids).index(asset_id)\n",
    "    weights[asset_index] = asset_weight\n",
    "  return weights"
   ]
  },
  {
   "cell_type": "code",
   "execution_count": 143,
   "metadata": {},
   "outputs": [
    {
     "name": "stdout",
     "output_type": "stream",
     "text": [
      "1.018884195842113\n",
      "1.039581854706653\n",
      "1.0058760185128228\n"
     ]
    }
   ],
   "source": [
    "# enumerate the dates from start_date to now in the log_return's index\n",
    "\n",
    "cur_asset_model = 1\n",
    "cur_asset_model_hist = [1]\n",
    "\n",
    "cur_asset_human = 1\n",
    "cur_asset_human_hist = [1]\n",
    "\n",
    "cur_asset_sp500 = 1\n",
    "cur_asset_sp500_hist = [1]\n",
    "\n",
    "model_weights = np.zeros(len(unique_ids))\n",
    "human_weights = np.zeros(len(unique_ids))\n",
    "for date in log_return.index:\n",
    "  # get the date as a string\n",
    "  date_str = str(date.date())\n",
    "  # enumerate the trade log to see if the date is in the model_trace_log\n",
    "  for log in model_trace_log:\n",
    "    if log['date'] == date_str:\n",
    "      model_weights = update_weight(log['weights'], unique_ids)\n",
    "\n",
    "  for log in human_trace_log:\n",
    "    if log['date'] == date_str:\n",
    "      human_weights = update_weight(log['weights'], unique_ids)\n",
    "  \n",
    "  # get the daily profit\n",
    "  daily_log_return_model = np.dot(model_weights, log_return.loc[date].values)\n",
    "  cur_asset_model = cur_asset_model * np.exp(daily_log_return_model)\n",
    "  cur_asset_model_hist.append(cur_asset_model)\n",
    "\n",
    "  daily_log_return_human = np.dot(human_weights, log_return.loc[date].values)\n",
    "  cur_asset_human = cur_asset_human * np.exp(daily_log_return_human)\n",
    "  cur_asset_human_hist.append(cur_asset_human)\n",
    "\n",
    "\n",
    "  # if the date is in the human_brain_trace\n",
    "  daily_log_return_sp500 = sp500_log_return.loc[date].values[0]\n",
    "  cur_asset_sp500 = cur_asset_sp500 * np.exp(daily_log_return_sp500)\n",
    "  cur_asset_sp500_hist.append(cur_asset_sp500)\n",
    "  \n",
    "print(cur_asset_model)\n",
    "print(cur_asset_human)\n",
    "print(cur_asset_sp500)\n"
   ]
  },
  {
   "cell_type": "code",
   "execution_count": 144,
   "metadata": {},
   "outputs": [
    {
     "data": {
      "text/plain": [
       "[1,\n",
       " 1.0058672702886116,\n",
       " 1.0096684682918597,\n",
       " 0.9979773560493306,\n",
       " 1.0109900095198296,\n",
       " 1.0199623311157475,\n",
       " 1.011899178796023,\n",
       " 1.0211291548887182,\n",
       " 1.0318709110118451,\n",
       " 1.032431272086595,\n",
       " 1.0569951096088477,\n",
       " 1.0385638480229593,\n",
       " 1.0302026108347762,\n",
       " 1.039581854706653]"
      ]
     },
     "execution_count": 144,
     "metadata": {},
     "output_type": "execute_result"
    }
   ],
   "source": [
    "cur_asset_human_hist"
   ]
  },
  {
   "cell_type": "code",
   "execution_count": 145,
   "metadata": {},
   "outputs": [
    {
     "data": {
      "application/vnd.plotly.v1+json": {
       "config": {
        "plotlyServerURL": "https://plot.ly"
       },
       "data": [
        {
         "mode": "lines",
         "name": "Model",
         "type": "scatter",
         "x": [
          "2024-05-14T00:00:00",
          "2024-05-15T00:00:00",
          "2024-05-16T00:00:00",
          "2024-05-17T00:00:00",
          "2024-05-20T00:00:00",
          "2024-05-21T00:00:00",
          "2024-05-22T00:00:00",
          "2024-05-23T00:00:00",
          "2024-05-24T00:00:00",
          "2024-05-27T00:00:00",
          "2024-05-28T00:00:00",
          "2024-05-29T00:00:00",
          "2024-05-30T00:00:00",
          "2024-05-31T00:00:00"
         ],
         "y": [
          1,
          1.014634925213959,
          1.0252219577023538,
          1.0312481079660742,
          1.0340232576393145,
          1.0365276091025686,
          1.0380046828199399,
          1.034150119290129,
          1.0339464315561888,
          1.0339464315561888,
          1.0201814173255361,
          1.0151732336460249,
          1.004749569588147,
          1.018884195842113
         ]
        },
        {
         "mode": "lines",
         "name": "Human",
         "type": "scatter",
         "x": [
          "2024-05-14T00:00:00",
          "2024-05-15T00:00:00",
          "2024-05-16T00:00:00",
          "2024-05-17T00:00:00",
          "2024-05-20T00:00:00",
          "2024-05-21T00:00:00",
          "2024-05-22T00:00:00",
          "2024-05-23T00:00:00",
          "2024-05-24T00:00:00",
          "2024-05-27T00:00:00",
          "2024-05-28T00:00:00",
          "2024-05-29T00:00:00",
          "2024-05-30T00:00:00",
          "2024-05-31T00:00:00"
         ],
         "y": [
          1,
          1.0058672702886116,
          1.0096684682918597,
          0.9979773560493306,
          1.0109900095198296,
          1.0199623311157475,
          1.011899178796023,
          1.0211291548887182,
          1.0318709110118451,
          1.032431272086595,
          1.0569951096088477,
          1.0385638480229593,
          1.0302026108347762,
          1.039581854706653
         ]
        },
        {
         "mode": "lines",
         "name": "SP500",
         "type": "scatter",
         "x": [
          "2024-05-14T00:00:00",
          "2024-05-15T00:00:00",
          "2024-05-16T00:00:00",
          "2024-05-17T00:00:00",
          "2024-05-20T00:00:00",
          "2024-05-21T00:00:00",
          "2024-05-22T00:00:00",
          "2024-05-23T00:00:00",
          "2024-05-24T00:00:00",
          "2024-05-27T00:00:00",
          "2024-05-28T00:00:00",
          "2024-05-29T00:00:00",
          "2024-05-30T00:00:00",
          "2024-05-31T00:00:00"
         ],
         "y": [
          1,
          1.0117159278825967,
          1.0096098714207389,
          1.0107858382546775,
          1.0117121122257269,
          1.0142432887016257,
          1.0114986215706903,
          1.0040329631804936,
          1.0110622407156462,
          1.0110622407156462,
          1.0113137948745679,
          1.0038633991118449,
          0.9978652795792288,
          1.0058760185128228
         ]
        }
       ],
       "layout": {
        "template": {
         "data": {
          "bar": [
           {
            "error_x": {
             "color": "#2a3f5f"
            },
            "error_y": {
             "color": "#2a3f5f"
            },
            "marker": {
             "line": {
              "color": "#E5ECF6",
              "width": 0.5
             },
             "pattern": {
              "fillmode": "overlay",
              "size": 10,
              "solidity": 0.2
             }
            },
            "type": "bar"
           }
          ],
          "barpolar": [
           {
            "marker": {
             "line": {
              "color": "#E5ECF6",
              "width": 0.5
             },
             "pattern": {
              "fillmode": "overlay",
              "size": 10,
              "solidity": 0.2
             }
            },
            "type": "barpolar"
           }
          ],
          "carpet": [
           {
            "aaxis": {
             "endlinecolor": "#2a3f5f",
             "gridcolor": "white",
             "linecolor": "white",
             "minorgridcolor": "white",
             "startlinecolor": "#2a3f5f"
            },
            "baxis": {
             "endlinecolor": "#2a3f5f",
             "gridcolor": "white",
             "linecolor": "white",
             "minorgridcolor": "white",
             "startlinecolor": "#2a3f5f"
            },
            "type": "carpet"
           }
          ],
          "choropleth": [
           {
            "colorbar": {
             "outlinewidth": 0,
             "ticks": ""
            },
            "type": "choropleth"
           }
          ],
          "contour": [
           {
            "colorbar": {
             "outlinewidth": 0,
             "ticks": ""
            },
            "colorscale": [
             [
              0,
              "#0d0887"
             ],
             [
              0.1111111111111111,
              "#46039f"
             ],
             [
              0.2222222222222222,
              "#7201a8"
             ],
             [
              0.3333333333333333,
              "#9c179e"
             ],
             [
              0.4444444444444444,
              "#bd3786"
             ],
             [
              0.5555555555555556,
              "#d8576b"
             ],
             [
              0.6666666666666666,
              "#ed7953"
             ],
             [
              0.7777777777777778,
              "#fb9f3a"
             ],
             [
              0.8888888888888888,
              "#fdca26"
             ],
             [
              1,
              "#f0f921"
             ]
            ],
            "type": "contour"
           }
          ],
          "contourcarpet": [
           {
            "colorbar": {
             "outlinewidth": 0,
             "ticks": ""
            },
            "type": "contourcarpet"
           }
          ],
          "heatmap": [
           {
            "colorbar": {
             "outlinewidth": 0,
             "ticks": ""
            },
            "colorscale": [
             [
              0,
              "#0d0887"
             ],
             [
              0.1111111111111111,
              "#46039f"
             ],
             [
              0.2222222222222222,
              "#7201a8"
             ],
             [
              0.3333333333333333,
              "#9c179e"
             ],
             [
              0.4444444444444444,
              "#bd3786"
             ],
             [
              0.5555555555555556,
              "#d8576b"
             ],
             [
              0.6666666666666666,
              "#ed7953"
             ],
             [
              0.7777777777777778,
              "#fb9f3a"
             ],
             [
              0.8888888888888888,
              "#fdca26"
             ],
             [
              1,
              "#f0f921"
             ]
            ],
            "type": "heatmap"
           }
          ],
          "heatmapgl": [
           {
            "colorbar": {
             "outlinewidth": 0,
             "ticks": ""
            },
            "colorscale": [
             [
              0,
              "#0d0887"
             ],
             [
              0.1111111111111111,
              "#46039f"
             ],
             [
              0.2222222222222222,
              "#7201a8"
             ],
             [
              0.3333333333333333,
              "#9c179e"
             ],
             [
              0.4444444444444444,
              "#bd3786"
             ],
             [
              0.5555555555555556,
              "#d8576b"
             ],
             [
              0.6666666666666666,
              "#ed7953"
             ],
             [
              0.7777777777777778,
              "#fb9f3a"
             ],
             [
              0.8888888888888888,
              "#fdca26"
             ],
             [
              1,
              "#f0f921"
             ]
            ],
            "type": "heatmapgl"
           }
          ],
          "histogram": [
           {
            "marker": {
             "pattern": {
              "fillmode": "overlay",
              "size": 10,
              "solidity": 0.2
             }
            },
            "type": "histogram"
           }
          ],
          "histogram2d": [
           {
            "colorbar": {
             "outlinewidth": 0,
             "ticks": ""
            },
            "colorscale": [
             [
              0,
              "#0d0887"
             ],
             [
              0.1111111111111111,
              "#46039f"
             ],
             [
              0.2222222222222222,
              "#7201a8"
             ],
             [
              0.3333333333333333,
              "#9c179e"
             ],
             [
              0.4444444444444444,
              "#bd3786"
             ],
             [
              0.5555555555555556,
              "#d8576b"
             ],
             [
              0.6666666666666666,
              "#ed7953"
             ],
             [
              0.7777777777777778,
              "#fb9f3a"
             ],
             [
              0.8888888888888888,
              "#fdca26"
             ],
             [
              1,
              "#f0f921"
             ]
            ],
            "type": "histogram2d"
           }
          ],
          "histogram2dcontour": [
           {
            "colorbar": {
             "outlinewidth": 0,
             "ticks": ""
            },
            "colorscale": [
             [
              0,
              "#0d0887"
             ],
             [
              0.1111111111111111,
              "#46039f"
             ],
             [
              0.2222222222222222,
              "#7201a8"
             ],
             [
              0.3333333333333333,
              "#9c179e"
             ],
             [
              0.4444444444444444,
              "#bd3786"
             ],
             [
              0.5555555555555556,
              "#d8576b"
             ],
             [
              0.6666666666666666,
              "#ed7953"
             ],
             [
              0.7777777777777778,
              "#fb9f3a"
             ],
             [
              0.8888888888888888,
              "#fdca26"
             ],
             [
              1,
              "#f0f921"
             ]
            ],
            "type": "histogram2dcontour"
           }
          ],
          "mesh3d": [
           {
            "colorbar": {
             "outlinewidth": 0,
             "ticks": ""
            },
            "type": "mesh3d"
           }
          ],
          "parcoords": [
           {
            "line": {
             "colorbar": {
              "outlinewidth": 0,
              "ticks": ""
             }
            },
            "type": "parcoords"
           }
          ],
          "pie": [
           {
            "automargin": true,
            "type": "pie"
           }
          ],
          "scatter": [
           {
            "fillpattern": {
             "fillmode": "overlay",
             "size": 10,
             "solidity": 0.2
            },
            "type": "scatter"
           }
          ],
          "scatter3d": [
           {
            "line": {
             "colorbar": {
              "outlinewidth": 0,
              "ticks": ""
             }
            },
            "marker": {
             "colorbar": {
              "outlinewidth": 0,
              "ticks": ""
             }
            },
            "type": "scatter3d"
           }
          ],
          "scattercarpet": [
           {
            "marker": {
             "colorbar": {
              "outlinewidth": 0,
              "ticks": ""
             }
            },
            "type": "scattercarpet"
           }
          ],
          "scattergeo": [
           {
            "marker": {
             "colorbar": {
              "outlinewidth": 0,
              "ticks": ""
             }
            },
            "type": "scattergeo"
           }
          ],
          "scattergl": [
           {
            "marker": {
             "colorbar": {
              "outlinewidth": 0,
              "ticks": ""
             }
            },
            "type": "scattergl"
           }
          ],
          "scattermapbox": [
           {
            "marker": {
             "colorbar": {
              "outlinewidth": 0,
              "ticks": ""
             }
            },
            "type": "scattermapbox"
           }
          ],
          "scatterpolar": [
           {
            "marker": {
             "colorbar": {
              "outlinewidth": 0,
              "ticks": ""
             }
            },
            "type": "scatterpolar"
           }
          ],
          "scatterpolargl": [
           {
            "marker": {
             "colorbar": {
              "outlinewidth": 0,
              "ticks": ""
             }
            },
            "type": "scatterpolargl"
           }
          ],
          "scatterternary": [
           {
            "marker": {
             "colorbar": {
              "outlinewidth": 0,
              "ticks": ""
             }
            },
            "type": "scatterternary"
           }
          ],
          "surface": [
           {
            "colorbar": {
             "outlinewidth": 0,
             "ticks": ""
            },
            "colorscale": [
             [
              0,
              "#0d0887"
             ],
             [
              0.1111111111111111,
              "#46039f"
             ],
             [
              0.2222222222222222,
              "#7201a8"
             ],
             [
              0.3333333333333333,
              "#9c179e"
             ],
             [
              0.4444444444444444,
              "#bd3786"
             ],
             [
              0.5555555555555556,
              "#d8576b"
             ],
             [
              0.6666666666666666,
              "#ed7953"
             ],
             [
              0.7777777777777778,
              "#fb9f3a"
             ],
             [
              0.8888888888888888,
              "#fdca26"
             ],
             [
              1,
              "#f0f921"
             ]
            ],
            "type": "surface"
           }
          ],
          "table": [
           {
            "cells": {
             "fill": {
              "color": "#EBF0F8"
             },
             "line": {
              "color": "white"
             }
            },
            "header": {
             "fill": {
              "color": "#C8D4E3"
             },
             "line": {
              "color": "white"
             }
            },
            "type": "table"
           }
          ]
         },
         "layout": {
          "annotationdefaults": {
           "arrowcolor": "#2a3f5f",
           "arrowhead": 0,
           "arrowwidth": 1
          },
          "autotypenumbers": "strict",
          "coloraxis": {
           "colorbar": {
            "outlinewidth": 0,
            "ticks": ""
           }
          },
          "colorscale": {
           "diverging": [
            [
             0,
             "#8e0152"
            ],
            [
             0.1,
             "#c51b7d"
            ],
            [
             0.2,
             "#de77ae"
            ],
            [
             0.3,
             "#f1b6da"
            ],
            [
             0.4,
             "#fde0ef"
            ],
            [
             0.5,
             "#f7f7f7"
            ],
            [
             0.6,
             "#e6f5d0"
            ],
            [
             0.7,
             "#b8e186"
            ],
            [
             0.8,
             "#7fbc41"
            ],
            [
             0.9,
             "#4d9221"
            ],
            [
             1,
             "#276419"
            ]
           ],
           "sequential": [
            [
             0,
             "#0d0887"
            ],
            [
             0.1111111111111111,
             "#46039f"
            ],
            [
             0.2222222222222222,
             "#7201a8"
            ],
            [
             0.3333333333333333,
             "#9c179e"
            ],
            [
             0.4444444444444444,
             "#bd3786"
            ],
            [
             0.5555555555555556,
             "#d8576b"
            ],
            [
             0.6666666666666666,
             "#ed7953"
            ],
            [
             0.7777777777777778,
             "#fb9f3a"
            ],
            [
             0.8888888888888888,
             "#fdca26"
            ],
            [
             1,
             "#f0f921"
            ]
           ],
           "sequentialminus": [
            [
             0,
             "#0d0887"
            ],
            [
             0.1111111111111111,
             "#46039f"
            ],
            [
             0.2222222222222222,
             "#7201a8"
            ],
            [
             0.3333333333333333,
             "#9c179e"
            ],
            [
             0.4444444444444444,
             "#bd3786"
            ],
            [
             0.5555555555555556,
             "#d8576b"
            ],
            [
             0.6666666666666666,
             "#ed7953"
            ],
            [
             0.7777777777777778,
             "#fb9f3a"
            ],
            [
             0.8888888888888888,
             "#fdca26"
            ],
            [
             1,
             "#f0f921"
            ]
           ]
          },
          "colorway": [
           "#636efa",
           "#EF553B",
           "#00cc96",
           "#ab63fa",
           "#FFA15A",
           "#19d3f3",
           "#FF6692",
           "#B6E880",
           "#FF97FF",
           "#FECB52"
          ],
          "font": {
           "color": "#2a3f5f"
          },
          "geo": {
           "bgcolor": "white",
           "lakecolor": "white",
           "landcolor": "#E5ECF6",
           "showlakes": true,
           "showland": true,
           "subunitcolor": "white"
          },
          "hoverlabel": {
           "align": "left"
          },
          "hovermode": "closest",
          "mapbox": {
           "style": "light"
          },
          "paper_bgcolor": "white",
          "plot_bgcolor": "#E5ECF6",
          "polar": {
           "angularaxis": {
            "gridcolor": "white",
            "linecolor": "white",
            "ticks": ""
           },
           "bgcolor": "#E5ECF6",
           "radialaxis": {
            "gridcolor": "white",
            "linecolor": "white",
            "ticks": ""
           }
          },
          "scene": {
           "xaxis": {
            "backgroundcolor": "#E5ECF6",
            "gridcolor": "white",
            "gridwidth": 2,
            "linecolor": "white",
            "showbackground": true,
            "ticks": "",
            "zerolinecolor": "white"
           },
           "yaxis": {
            "backgroundcolor": "#E5ECF6",
            "gridcolor": "white",
            "gridwidth": 2,
            "linecolor": "white",
            "showbackground": true,
            "ticks": "",
            "zerolinecolor": "white"
           },
           "zaxis": {
            "backgroundcolor": "#E5ECF6",
            "gridcolor": "white",
            "gridwidth": 2,
            "linecolor": "white",
            "showbackground": true,
            "ticks": "",
            "zerolinecolor": "white"
           }
          },
          "shapedefaults": {
           "line": {
            "color": "#2a3f5f"
           }
          },
          "ternary": {
           "aaxis": {
            "gridcolor": "white",
            "linecolor": "white",
            "ticks": ""
           },
           "baxis": {
            "gridcolor": "white",
            "linecolor": "white",
            "ticks": ""
           },
           "bgcolor": "#E5ECF6",
           "caxis": {
            "gridcolor": "white",
            "linecolor": "white",
            "ticks": ""
           }
          },
          "title": {
           "x": 0.05
          },
          "xaxis": {
           "automargin": true,
           "gridcolor": "white",
           "linecolor": "white",
           "ticks": "",
           "title": {
            "standoff": 15
           },
           "zerolinecolor": "white",
           "zerolinewidth": 2
          },
          "yaxis": {
           "automargin": true,
           "gridcolor": "white",
           "linecolor": "white",
           "ticks": "",
           "title": {
            "standoff": 15
           },
           "zerolinecolor": "white",
           "zerolinewidth": 2
          }
         }
        }
       }
      },
      "text/html": [
       "<div>                            <div id=\"a44aef79-c0a3-4520-9d26-ddc08c6a69a5\" class=\"plotly-graph-div\" style=\"height:525px; width:100%;\"></div>            <script type=\"text/javascript\">                require([\"plotly\"], function(Plotly) {                    window.PLOTLYENV=window.PLOTLYENV || {};                                    if (document.getElementById(\"a44aef79-c0a3-4520-9d26-ddc08c6a69a5\")) {                    Plotly.newPlot(                        \"a44aef79-c0a3-4520-9d26-ddc08c6a69a5\",                        [{\"mode\":\"lines\",\"name\":\"Model\",\"x\":[\"2024-05-14T00:00:00\",\"2024-05-15T00:00:00\",\"2024-05-16T00:00:00\",\"2024-05-17T00:00:00\",\"2024-05-20T00:00:00\",\"2024-05-21T00:00:00\",\"2024-05-22T00:00:00\",\"2024-05-23T00:00:00\",\"2024-05-24T00:00:00\",\"2024-05-27T00:00:00\",\"2024-05-28T00:00:00\",\"2024-05-29T00:00:00\",\"2024-05-30T00:00:00\",\"2024-05-31T00:00:00\"],\"y\":[1,1.014634925213959,1.0252219577023538,1.0312481079660742,1.0340232576393145,1.0365276091025686,1.0380046828199399,1.034150119290129,1.0339464315561888,1.0339464315561888,1.0201814173255361,1.0151732336460249,1.004749569588147,1.018884195842113],\"type\":\"scatter\"},{\"mode\":\"lines\",\"name\":\"Human\",\"x\":[\"2024-05-14T00:00:00\",\"2024-05-15T00:00:00\",\"2024-05-16T00:00:00\",\"2024-05-17T00:00:00\",\"2024-05-20T00:00:00\",\"2024-05-21T00:00:00\",\"2024-05-22T00:00:00\",\"2024-05-23T00:00:00\",\"2024-05-24T00:00:00\",\"2024-05-27T00:00:00\",\"2024-05-28T00:00:00\",\"2024-05-29T00:00:00\",\"2024-05-30T00:00:00\",\"2024-05-31T00:00:00\"],\"y\":[1,1.0058672702886116,1.0096684682918597,0.9979773560493306,1.0109900095198296,1.0199623311157475,1.011899178796023,1.0211291548887182,1.0318709110118451,1.032431272086595,1.0569951096088477,1.0385638480229593,1.0302026108347762,1.039581854706653],\"type\":\"scatter\"},{\"mode\":\"lines\",\"name\":\"SP500\",\"x\":[\"2024-05-14T00:00:00\",\"2024-05-15T00:00:00\",\"2024-05-16T00:00:00\",\"2024-05-17T00:00:00\",\"2024-05-20T00:00:00\",\"2024-05-21T00:00:00\",\"2024-05-22T00:00:00\",\"2024-05-23T00:00:00\",\"2024-05-24T00:00:00\",\"2024-05-27T00:00:00\",\"2024-05-28T00:00:00\",\"2024-05-29T00:00:00\",\"2024-05-30T00:00:00\",\"2024-05-31T00:00:00\"],\"y\":[1,1.0117159278825967,1.0096098714207389,1.0107858382546775,1.0117121122257269,1.0142432887016257,1.0114986215706903,1.0040329631804936,1.0110622407156462,1.0110622407156462,1.0113137948745679,1.0038633991118449,0.9978652795792288,1.0058760185128228],\"type\":\"scatter\"}],                        {\"template\":{\"data\":{\"histogram2dcontour\":[{\"type\":\"histogram2dcontour\",\"colorbar\":{\"outlinewidth\":0,\"ticks\":\"\"},\"colorscale\":[[0.0,\"#0d0887\"],[0.1111111111111111,\"#46039f\"],[0.2222222222222222,\"#7201a8\"],[0.3333333333333333,\"#9c179e\"],[0.4444444444444444,\"#bd3786\"],[0.5555555555555556,\"#d8576b\"],[0.6666666666666666,\"#ed7953\"],[0.7777777777777778,\"#fb9f3a\"],[0.8888888888888888,\"#fdca26\"],[1.0,\"#f0f921\"]]}],\"choropleth\":[{\"type\":\"choropleth\",\"colorbar\":{\"outlinewidth\":0,\"ticks\":\"\"}}],\"histogram2d\":[{\"type\":\"histogram2d\",\"colorbar\":{\"outlinewidth\":0,\"ticks\":\"\"},\"colorscale\":[[0.0,\"#0d0887\"],[0.1111111111111111,\"#46039f\"],[0.2222222222222222,\"#7201a8\"],[0.3333333333333333,\"#9c179e\"],[0.4444444444444444,\"#bd3786\"],[0.5555555555555556,\"#d8576b\"],[0.6666666666666666,\"#ed7953\"],[0.7777777777777778,\"#fb9f3a\"],[0.8888888888888888,\"#fdca26\"],[1.0,\"#f0f921\"]]}],\"heatmap\":[{\"type\":\"heatmap\",\"colorbar\":{\"outlinewidth\":0,\"ticks\":\"\"},\"colorscale\":[[0.0,\"#0d0887\"],[0.1111111111111111,\"#46039f\"],[0.2222222222222222,\"#7201a8\"],[0.3333333333333333,\"#9c179e\"],[0.4444444444444444,\"#bd3786\"],[0.5555555555555556,\"#d8576b\"],[0.6666666666666666,\"#ed7953\"],[0.7777777777777778,\"#fb9f3a\"],[0.8888888888888888,\"#fdca26\"],[1.0,\"#f0f921\"]]}],\"heatmapgl\":[{\"type\":\"heatmapgl\",\"colorbar\":{\"outlinewidth\":0,\"ticks\":\"\"},\"colorscale\":[[0.0,\"#0d0887\"],[0.1111111111111111,\"#46039f\"],[0.2222222222222222,\"#7201a8\"],[0.3333333333333333,\"#9c179e\"],[0.4444444444444444,\"#bd3786\"],[0.5555555555555556,\"#d8576b\"],[0.6666666666666666,\"#ed7953\"],[0.7777777777777778,\"#fb9f3a\"],[0.8888888888888888,\"#fdca26\"],[1.0,\"#f0f921\"]]}],\"contourcarpet\":[{\"type\":\"contourcarpet\",\"colorbar\":{\"outlinewidth\":0,\"ticks\":\"\"}}],\"contour\":[{\"type\":\"contour\",\"colorbar\":{\"outlinewidth\":0,\"ticks\":\"\"},\"colorscale\":[[0.0,\"#0d0887\"],[0.1111111111111111,\"#46039f\"],[0.2222222222222222,\"#7201a8\"],[0.3333333333333333,\"#9c179e\"],[0.4444444444444444,\"#bd3786\"],[0.5555555555555556,\"#d8576b\"],[0.6666666666666666,\"#ed7953\"],[0.7777777777777778,\"#fb9f3a\"],[0.8888888888888888,\"#fdca26\"],[1.0,\"#f0f921\"]]}],\"surface\":[{\"type\":\"surface\",\"colorbar\":{\"outlinewidth\":0,\"ticks\":\"\"},\"colorscale\":[[0.0,\"#0d0887\"],[0.1111111111111111,\"#46039f\"],[0.2222222222222222,\"#7201a8\"],[0.3333333333333333,\"#9c179e\"],[0.4444444444444444,\"#bd3786\"],[0.5555555555555556,\"#d8576b\"],[0.6666666666666666,\"#ed7953\"],[0.7777777777777778,\"#fb9f3a\"],[0.8888888888888888,\"#fdca26\"],[1.0,\"#f0f921\"]]}],\"mesh3d\":[{\"type\":\"mesh3d\",\"colorbar\":{\"outlinewidth\":0,\"ticks\":\"\"}}],\"scatter\":[{\"fillpattern\":{\"fillmode\":\"overlay\",\"size\":10,\"solidity\":0.2},\"type\":\"scatter\"}],\"parcoords\":[{\"type\":\"parcoords\",\"line\":{\"colorbar\":{\"outlinewidth\":0,\"ticks\":\"\"}}}],\"scatterpolargl\":[{\"type\":\"scatterpolargl\",\"marker\":{\"colorbar\":{\"outlinewidth\":0,\"ticks\":\"\"}}}],\"bar\":[{\"error_x\":{\"color\":\"#2a3f5f\"},\"error_y\":{\"color\":\"#2a3f5f\"},\"marker\":{\"line\":{\"color\":\"#E5ECF6\",\"width\":0.5},\"pattern\":{\"fillmode\":\"overlay\",\"size\":10,\"solidity\":0.2}},\"type\":\"bar\"}],\"scattergeo\":[{\"type\":\"scattergeo\",\"marker\":{\"colorbar\":{\"outlinewidth\":0,\"ticks\":\"\"}}}],\"scatterpolar\":[{\"type\":\"scatterpolar\",\"marker\":{\"colorbar\":{\"outlinewidth\":0,\"ticks\":\"\"}}}],\"histogram\":[{\"marker\":{\"pattern\":{\"fillmode\":\"overlay\",\"size\":10,\"solidity\":0.2}},\"type\":\"histogram\"}],\"scattergl\":[{\"type\":\"scattergl\",\"marker\":{\"colorbar\":{\"outlinewidth\":0,\"ticks\":\"\"}}}],\"scatter3d\":[{\"type\":\"scatter3d\",\"line\":{\"colorbar\":{\"outlinewidth\":0,\"ticks\":\"\"}},\"marker\":{\"colorbar\":{\"outlinewidth\":0,\"ticks\":\"\"}}}],\"scattermapbox\":[{\"type\":\"scattermapbox\",\"marker\":{\"colorbar\":{\"outlinewidth\":0,\"ticks\":\"\"}}}],\"scatterternary\":[{\"type\":\"scatterternary\",\"marker\":{\"colorbar\":{\"outlinewidth\":0,\"ticks\":\"\"}}}],\"scattercarpet\":[{\"type\":\"scattercarpet\",\"marker\":{\"colorbar\":{\"outlinewidth\":0,\"ticks\":\"\"}}}],\"carpet\":[{\"aaxis\":{\"endlinecolor\":\"#2a3f5f\",\"gridcolor\":\"white\",\"linecolor\":\"white\",\"minorgridcolor\":\"white\",\"startlinecolor\":\"#2a3f5f\"},\"baxis\":{\"endlinecolor\":\"#2a3f5f\",\"gridcolor\":\"white\",\"linecolor\":\"white\",\"minorgridcolor\":\"white\",\"startlinecolor\":\"#2a3f5f\"},\"type\":\"carpet\"}],\"table\":[{\"cells\":{\"fill\":{\"color\":\"#EBF0F8\"},\"line\":{\"color\":\"white\"}},\"header\":{\"fill\":{\"color\":\"#C8D4E3\"},\"line\":{\"color\":\"white\"}},\"type\":\"table\"}],\"barpolar\":[{\"marker\":{\"line\":{\"color\":\"#E5ECF6\",\"width\":0.5},\"pattern\":{\"fillmode\":\"overlay\",\"size\":10,\"solidity\":0.2}},\"type\":\"barpolar\"}],\"pie\":[{\"automargin\":true,\"type\":\"pie\"}]},\"layout\":{\"autotypenumbers\":\"strict\",\"colorway\":[\"#636efa\",\"#EF553B\",\"#00cc96\",\"#ab63fa\",\"#FFA15A\",\"#19d3f3\",\"#FF6692\",\"#B6E880\",\"#FF97FF\",\"#FECB52\"],\"font\":{\"color\":\"#2a3f5f\"},\"hovermode\":\"closest\",\"hoverlabel\":{\"align\":\"left\"},\"paper_bgcolor\":\"white\",\"plot_bgcolor\":\"#E5ECF6\",\"polar\":{\"bgcolor\":\"#E5ECF6\",\"angularaxis\":{\"gridcolor\":\"white\",\"linecolor\":\"white\",\"ticks\":\"\"},\"radialaxis\":{\"gridcolor\":\"white\",\"linecolor\":\"white\",\"ticks\":\"\"}},\"ternary\":{\"bgcolor\":\"#E5ECF6\",\"aaxis\":{\"gridcolor\":\"white\",\"linecolor\":\"white\",\"ticks\":\"\"},\"baxis\":{\"gridcolor\":\"white\",\"linecolor\":\"white\",\"ticks\":\"\"},\"caxis\":{\"gridcolor\":\"white\",\"linecolor\":\"white\",\"ticks\":\"\"}},\"coloraxis\":{\"colorbar\":{\"outlinewidth\":0,\"ticks\":\"\"}},\"colorscale\":{\"sequential\":[[0.0,\"#0d0887\"],[0.1111111111111111,\"#46039f\"],[0.2222222222222222,\"#7201a8\"],[0.3333333333333333,\"#9c179e\"],[0.4444444444444444,\"#bd3786\"],[0.5555555555555556,\"#d8576b\"],[0.6666666666666666,\"#ed7953\"],[0.7777777777777778,\"#fb9f3a\"],[0.8888888888888888,\"#fdca26\"],[1.0,\"#f0f921\"]],\"sequentialminus\":[[0.0,\"#0d0887\"],[0.1111111111111111,\"#46039f\"],[0.2222222222222222,\"#7201a8\"],[0.3333333333333333,\"#9c179e\"],[0.4444444444444444,\"#bd3786\"],[0.5555555555555556,\"#d8576b\"],[0.6666666666666666,\"#ed7953\"],[0.7777777777777778,\"#fb9f3a\"],[0.8888888888888888,\"#fdca26\"],[1.0,\"#f0f921\"]],\"diverging\":[[0,\"#8e0152\"],[0.1,\"#c51b7d\"],[0.2,\"#de77ae\"],[0.3,\"#f1b6da\"],[0.4,\"#fde0ef\"],[0.5,\"#f7f7f7\"],[0.6,\"#e6f5d0\"],[0.7,\"#b8e186\"],[0.8,\"#7fbc41\"],[0.9,\"#4d9221\"],[1,\"#276419\"]]},\"xaxis\":{\"gridcolor\":\"white\",\"linecolor\":\"white\",\"ticks\":\"\",\"title\":{\"standoff\":15},\"zerolinecolor\":\"white\",\"automargin\":true,\"zerolinewidth\":2},\"yaxis\":{\"gridcolor\":\"white\",\"linecolor\":\"white\",\"ticks\":\"\",\"title\":{\"standoff\":15},\"zerolinecolor\":\"white\",\"automargin\":true,\"zerolinewidth\":2},\"scene\":{\"xaxis\":{\"backgroundcolor\":\"#E5ECF6\",\"gridcolor\":\"white\",\"linecolor\":\"white\",\"showbackground\":true,\"ticks\":\"\",\"zerolinecolor\":\"white\",\"gridwidth\":2},\"yaxis\":{\"backgroundcolor\":\"#E5ECF6\",\"gridcolor\":\"white\",\"linecolor\":\"white\",\"showbackground\":true,\"ticks\":\"\",\"zerolinecolor\":\"white\",\"gridwidth\":2},\"zaxis\":{\"backgroundcolor\":\"#E5ECF6\",\"gridcolor\":\"white\",\"linecolor\":\"white\",\"showbackground\":true,\"ticks\":\"\",\"zerolinecolor\":\"white\",\"gridwidth\":2}},\"shapedefaults\":{\"line\":{\"color\":\"#2a3f5f\"}},\"annotationdefaults\":{\"arrowcolor\":\"#2a3f5f\",\"arrowhead\":0,\"arrowwidth\":1},\"geo\":{\"bgcolor\":\"white\",\"landcolor\":\"#E5ECF6\",\"subunitcolor\":\"white\",\"showland\":true,\"showlakes\":true,\"lakecolor\":\"white\"},\"title\":{\"x\":0.05},\"mapbox\":{\"style\":\"light\"}}}},                        {\"responsive\": true}                    ).then(function(){\n",
       "                            \n",
       "var gd = document.getElementById('a44aef79-c0a3-4520-9d26-ddc08c6a69a5');\n",
       "var x = new MutationObserver(function (mutations, observer) {{\n",
       "        var display = window.getComputedStyle(gd).display;\n",
       "        if (!display || display === 'none') {{\n",
       "            console.log([gd, 'removed!']);\n",
       "            Plotly.purge(gd);\n",
       "            observer.disconnect();\n",
       "        }}\n",
       "}});\n",
       "\n",
       "// Listen for the removal of the full notebook cells\n",
       "var notebookContainer = gd.closest('#notebook-container');\n",
       "if (notebookContainer) {{\n",
       "    x.observe(notebookContainer, {childList: true});\n",
       "}}\n",
       "\n",
       "// Listen for the clearing of the current output cell\n",
       "var outputEl = gd.closest('.output');\n",
       "if (outputEl) {{\n",
       "    x.observe(outputEl, {childList: true});\n",
       "}}\n",
       "\n",
       "                        })                };                });            </script>        </div>"
      ]
     },
     "metadata": {},
     "output_type": "display_data"
    }
   ],
   "source": [
    "# use plotly to plot the curve of the three assets\n",
    "import plotly.graph_objects as go\n",
    "\n",
    "fig = go.Figure()\n",
    "date_list = log_return.index.tolist()\n",
    "date_list.insert(0, pd.Timestamp('2024-05-14'))\n",
    "\n",
    "fig.add_trace(go.Scatter(x=date_list, y=cur_asset_model_hist, mode='lines', name='Model'))\n",
    "fig.add_trace(go.Scatter(x=date_list, y=cur_asset_human_hist, mode='lines', name='Human'))\n",
    "fig.add_trace(go.Scatter(x=date_list, y=cur_asset_sp500_hist, mode='lines', name='SP500'))\n",
    "fig.show()"
   ]
  },
  {
   "cell_type": "code",
   "execution_count": 63,
   "metadata": {},
   "outputs": [
    {
     "data": {
      "text/plain": [
       "[Timestamp('2024-05-14 00:00:00'),\n",
       " Timestamp('2024-05-15 00:00:00'),\n",
       " Timestamp('2024-05-16 00:00:00'),\n",
       " Timestamp('2024-05-17 00:00:00'),\n",
       " Timestamp('2024-05-20 00:00:00'),\n",
       " Timestamp('2024-05-21 00:00:00'),\n",
       " Timestamp('2024-05-22 00:00:00'),\n",
       " Timestamp('2024-05-23 00:00:00'),\n",
       " Timestamp('2024-05-24 00:00:00'),\n",
       " Timestamp('2024-05-27 00:00:00'),\n",
       " Timestamp('2024-05-28 00:00:00'),\n",
       " Timestamp('2024-05-29 00:00:00'),\n",
       " Timestamp('2024-05-30 00:00:00'),\n",
       " Timestamp('2024-05-31 00:00:00')]"
      ]
     },
     "execution_count": 63,
     "metadata": {},
     "output_type": "execute_result"
    }
   ],
   "source": [
    "date_list = log_return.index.tolist()\n",
    "date_list.insert(0, pd.Timestamp('2024-05-14'))\n",
    "date_list"
   ]
  },
  {
   "cell_type": "code",
   "execution_count": 60,
   "metadata": {},
   "outputs": [
    {
     "data": {
      "text/plain": [
       "DatetimeIndex(['2024-05-15', '2024-05-16', '2024-05-17', '2024-05-20',\n",
       "               '2024-05-21', '2024-05-22', '2024-05-23', '2024-05-24',\n",
       "               '2024-05-27', '2024-05-28', '2024-05-29', '2024-05-30',\n",
       "               '2024-05-31'],\n",
       "              dtype='datetime64[ns]', name='Date', freq='B')"
      ]
     },
     "execution_count": 60,
     "metadata": {},
     "output_type": "execute_result"
    }
   ],
   "source": [
    "log_return.index"
   ]
  },
  {
   "cell_type": "markdown",
   "metadata": {},
   "source": []
  },
  {
   "cell_type": "code",
   "execution_count": 34,
   "metadata": {},
   "outputs": [
    {
     "name": "stdout",
     "output_type": "stream",
     "text": [
      "2024-05-15\n",
      "[{'id': 'ARM', 'weight': 0.2}, {'id': 'INTC', 'weight': 0.1}, {'id': 'MSFT', 'weight': 0.1}, {'id': 'NVDA', 'weight': 0.1}, {'id': 'SAAB-B.ST', 'weight': 0.1}, {'id': 'RHM.DE', 'weight': 0.1}, {'id': 'BA.L', 'weight': 0.1}, {'id': 'MU', 'weight': 0.1}]\n",
      "2024-05-16\n",
      "2024-05-17\n",
      "2024-05-20\n",
      "2024-05-21\n",
      "1.0159805302818354\n"
     ]
    }
   ],
   "source": [
    "\n",
    "cur_asset = 1\n",
    "weights = np.zeros(len(unique_ids))\n",
    "for date in log_return.index:\n",
    "  # get the date as a string\n",
    "  date_str = str(date.date())\n",
    "  print(date_str)\n",
    "  # enumerate the trade log to see if the date is in the model_trace_log\n",
    "  for log in human_brain_trace_log:\n",
    "    if log['date'] == date_str:\n",
    "      print(log['weights'])\n",
    "      # build the vector of weights\n",
    "      # we need to update weights\n",
    "      for asset in log['weights']:\n",
    "        asset_id = asset['id']\n",
    "        asset_weight = asset['weight']\n",
    "        asset_index = list(unique_ids).index(asset_id)\n",
    "        weights[asset_index] = asset_weight\n",
    "  # get the daily profit\n",
    "  daily_log_return = np.dot(weights, log_return.loc[date].values)\n",
    "  cur_asset = cur_asset * np.exp(daily_log_return)\n",
    "  # if the date is in the human_brain_trace\n",
    "\n",
    "print(cur_asset)"
   ]
  },
  {
   "cell_type": "code",
   "execution_count": 5,
   "metadata": {},
   "outputs": [
    {
     "name": "stderr",
     "output_type": "stream",
     "text": [
      "[*********************100%%**********************]  10 of 10 completed\n",
      "[*********************100%%**********************]  1 of 1 completed\n",
      "/tmp/ipykernel_2005660/1705494098.py:42: FutureWarning: Series.fillna with 'method' is deprecated and will raise in a future version. Use obj.ffill() or obj.bfill() instead.\n",
      "  price_data = stocks_data['Adj Close'][stock_id].loc[start_date:end_date].fillna(method='ffill')\n"
     ]
    },
    {
     "ename": "IndexError",
     "evalue": "single positional indexer is out-of-bounds",
     "output_type": "error",
     "traceback": [
      "\u001b[0;31m---------------------------------------------------------------------------\u001b[0m",
      "\u001b[0;31mIndexError\u001b[0m                                Traceback (most recent call last)",
      "Cell \u001b[0;32mIn[5], line 51\u001b[0m\n\u001b[1;32m     49\u001b[0m \u001b[38;5;66;03m# Normalize both the portfolio's total value and the S&P 500 to start at 100 (relative comparison)\u001b[39;00m\n\u001b[1;32m     50\u001b[0m portfolio_value\u001b[38;5;241m.\u001b[39mdropna(inplace\u001b[38;5;241m=\u001b[39m\u001b[38;5;28;01mTrue\u001b[39;00m)  \u001b[38;5;66;03m# Remove any NaN values\u001b[39;00m\n\u001b[0;32m---> 51\u001b[0m portfolio_growth \u001b[38;5;241m=\u001b[39m (portfolio_value \u001b[38;5;241m/\u001b[39m \u001b[43mportfolio_value\u001b[49m\u001b[38;5;241;43m.\u001b[39;49m\u001b[43miloc\u001b[49m\u001b[43m[\u001b[49m\u001b[38;5;241;43m0\u001b[39;49m\u001b[43m]\u001b[49m) \u001b[38;5;241m*\u001b[39m \u001b[38;5;241m100\u001b[39m\n\u001b[1;32m     52\u001b[0m sp500_growth \u001b[38;5;241m=\u001b[39m (sp500_data[\u001b[38;5;124m'\u001b[39m\u001b[38;5;124mAdj Close\u001b[39m\u001b[38;5;124m'\u001b[39m] \u001b[38;5;241m/\u001b[39m sp500_data[\u001b[38;5;124m'\u001b[39m\u001b[38;5;124mAdj Close\u001b[39m\u001b[38;5;124m'\u001b[39m][\u001b[38;5;241m0\u001b[39m]) \u001b[38;5;241m*\u001b[39m \u001b[38;5;241m100\u001b[39m\n\u001b[1;32m     54\u001b[0m \u001b[38;5;66;03m# Plotting the data\u001b[39;00m\n",
      "File \u001b[0;32m~/anaconda3/envs/stock/lib/python3.11/site-packages/pandas/core/indexing.py:1153\u001b[0m, in \u001b[0;36m_LocationIndexer.__getitem__\u001b[0;34m(self, key)\u001b[0m\n\u001b[1;32m   1150\u001b[0m axis \u001b[38;5;241m=\u001b[39m \u001b[38;5;28mself\u001b[39m\u001b[38;5;241m.\u001b[39maxis \u001b[38;5;129;01mor\u001b[39;00m \u001b[38;5;241m0\u001b[39m\n\u001b[1;32m   1152\u001b[0m maybe_callable \u001b[38;5;241m=\u001b[39m com\u001b[38;5;241m.\u001b[39mapply_if_callable(key, \u001b[38;5;28mself\u001b[39m\u001b[38;5;241m.\u001b[39mobj)\n\u001b[0;32m-> 1153\u001b[0m \u001b[38;5;28;01mreturn\u001b[39;00m \u001b[38;5;28;43mself\u001b[39;49m\u001b[38;5;241;43m.\u001b[39;49m\u001b[43m_getitem_axis\u001b[49m\u001b[43m(\u001b[49m\u001b[43mmaybe_callable\u001b[49m\u001b[43m,\u001b[49m\u001b[43m \u001b[49m\u001b[43maxis\u001b[49m\u001b[38;5;241;43m=\u001b[39;49m\u001b[43maxis\u001b[49m\u001b[43m)\u001b[49m\n",
      "File \u001b[0;32m~/anaconda3/envs/stock/lib/python3.11/site-packages/pandas/core/indexing.py:1714\u001b[0m, in \u001b[0;36m_iLocIndexer._getitem_axis\u001b[0;34m(self, key, axis)\u001b[0m\n\u001b[1;32m   1711\u001b[0m     \u001b[38;5;28;01mraise\u001b[39;00m \u001b[38;5;167;01mTypeError\u001b[39;00m(\u001b[38;5;124m\"\u001b[39m\u001b[38;5;124mCannot index by location index with a non-integer key\u001b[39m\u001b[38;5;124m\"\u001b[39m)\n\u001b[1;32m   1713\u001b[0m \u001b[38;5;66;03m# validate the location\u001b[39;00m\n\u001b[0;32m-> 1714\u001b[0m \u001b[38;5;28;43mself\u001b[39;49m\u001b[38;5;241;43m.\u001b[39;49m\u001b[43m_validate_integer\u001b[49m\u001b[43m(\u001b[49m\u001b[43mkey\u001b[49m\u001b[43m,\u001b[49m\u001b[43m \u001b[49m\u001b[43maxis\u001b[49m\u001b[43m)\u001b[49m\n\u001b[1;32m   1716\u001b[0m \u001b[38;5;28;01mreturn\u001b[39;00m \u001b[38;5;28mself\u001b[39m\u001b[38;5;241m.\u001b[39mobj\u001b[38;5;241m.\u001b[39m_ixs(key, axis\u001b[38;5;241m=\u001b[39maxis)\n",
      "File \u001b[0;32m~/anaconda3/envs/stock/lib/python3.11/site-packages/pandas/core/indexing.py:1647\u001b[0m, in \u001b[0;36m_iLocIndexer._validate_integer\u001b[0;34m(self, key, axis)\u001b[0m\n\u001b[1;32m   1645\u001b[0m len_axis \u001b[38;5;241m=\u001b[39m \u001b[38;5;28mlen\u001b[39m(\u001b[38;5;28mself\u001b[39m\u001b[38;5;241m.\u001b[39mobj\u001b[38;5;241m.\u001b[39m_get_axis(axis))\n\u001b[1;32m   1646\u001b[0m \u001b[38;5;28;01mif\u001b[39;00m key \u001b[38;5;241m>\u001b[39m\u001b[38;5;241m=\u001b[39m len_axis \u001b[38;5;129;01mor\u001b[39;00m key \u001b[38;5;241m<\u001b[39m \u001b[38;5;241m-\u001b[39mlen_axis:\n\u001b[0;32m-> 1647\u001b[0m     \u001b[38;5;28;01mraise\u001b[39;00m \u001b[38;5;167;01mIndexError\u001b[39;00m(\u001b[38;5;124m\"\u001b[39m\u001b[38;5;124msingle positional indexer is out-of-bounds\u001b[39m\u001b[38;5;124m\"\u001b[39m)\n",
      "\u001b[0;31mIndexError\u001b[0m: single positional indexer is out-of-bounds"
     ]
    }
   ],
   "source": [
    "import pandas as pd\n",
    "import matplotlib.pyplot as plt\n",
    "from pandas_datareader import data as pdr\n",
    "import yfinance as yfin\n",
    "import datetime\n",
    "\n",
    "yfin.pdr_override()\n",
    "\n",
    "# Extract unique stock ids and the circular dates needed for periods\n",
    "unique_ids = set()\n",
    "dates = [log['date'] for log in model_trace_log]\n",
    "\n",
    "# Get the start and end date range for the data retrieval\n",
    "start_date = pd.to_datetime(min(dates))\n",
    "end_date = pd.to_datetime(max(dates)) + pd.DateOffset(days=1)  # ensuring coverage for the last date's day\n",
    "\n",
    "# List to store current date + next date for holding period calculations\n",
    "date_ranges = [(pd.to_datetime(model_trace_log[i]['date']), pd.to_datetime(model_trace_log[i+1]['date']) if i+1 < len(model_trace_log) else pd.to_datetime('now'))\n",
    "               for i in range(len(model_trace_log))]\n",
    "\n",
    "# Get unique stock ids from all logs\n",
    "for log in model_trace_log:\n",
    "    for weight in log['weights']:\n",
    "        unique_ids.add(weight['id'])\n",
    "\n",
    "# Load stock data\n",
    "stocks_data = pdr.get_data_yahoo(list(unique_ids), start=start_date, end=datetime.datetime.now())\n",
    "\n",
    "# Fetch the S&P 500 data for the whole period\n",
    "sp500_data = pdr.get_data_yahoo('^GSPC', start=start_date, end=datetime.datetime.now())\n",
    "\n",
    "# Calculate the weighted stock prices over time for each log segment\n",
    "portfolio_value = pd.Series(index=stocks_data['Adj Close'].index)\n",
    "\n",
    "for start_date, end_date in date_ranges:\n",
    "    for log in model_trace_log:\n",
    "        if pd.to_datetime(log['date']) == start_date:\n",
    "            for asset in log['weights']:\n",
    "                weight = asset['weight']\n",
    "                stock_id = asset['id']\n",
    "                if start_date in stocks_data['Adj Close'].index and stock_id in stocks_data['Adj Close'].columns:\n",
    "                    price_data = stocks_data['Adj Close'][stock_id].loc[start_date:end_date].fillna(method='ffill')\n",
    "                    weighted_prices = price_data * weight\n",
    "                    if portfolio_value[start_date:end_date].empty:\n",
    "                        portfolio_value[start_date:end_date] = weighted_prices\n",
    "                    else:\n",
    "                        portfolio_value[start_date:end_date] += weighted_prices\n",
    "\n",
    "# Normalize both the portfolio's total value and the S&P 500 to start at 100 (relative comparison)\n",
    "portfolio_value.dropna(inplace=True)  # Remove any NaN values\n",
    "portfolio_growth = (portfolio_value / portfolio_value.iloc[0]) * 100\n",
    "sp500_growth = (sp500_data['Adj Close'] / sp500_data['Adj Close'][0]) * 100\n",
    "\n",
    "# Plotting the data\n",
    "plt.figure(figsize=(12, 8))\n",
    "plt.plot(portfolio_growth.index, portfolio_growth, label='Model Portfolio')\n",
    "plt.plot(sp500_growth.index, sp500_growth, label='S&P 500', color='red', linestyle='--')\n",
    "plt.title('Accumulated Portfolio Growth vs. S&P 500')\n",
    "plt.xlabel('Date')\n",
    "plt.ylabel('Normalized Price')\n",
    "plt.legend()\n",
    "plt.grid(True)\n",
    "plt.show()"
   ]
  },
  {
   "cell_type": "code",
   "execution_count": null,
   "metadata": {},
   "outputs": [],
   "source": []
  }
 ],
 "metadata": {
  "kernelspec": {
   "display_name": "stock",
   "language": "python",
   "name": "python3"
  },
  "language_info": {
   "codemirror_mode": {
    "name": "ipython",
    "version": 3
   },
   "file_extension": ".py",
   "mimetype": "text/x-python",
   "name": "python",
   "nbconvert_exporter": "python",
   "pygments_lexer": "ipython3",
   "version": "3.11.5"
  }
 },
 "nbformat": 4,
 "nbformat_minor": 2
}
