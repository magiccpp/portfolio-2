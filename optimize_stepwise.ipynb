{
 "cells": [
  {
   "cell_type": "code",
   "execution_count": null,
   "metadata": {},
   "outputs": [],
   "source": [
    "# give 2 portforlio, the old one and the optimized new one, \n",
    "# calculate the stepwise change of the portfolio\n",
    "# and prioritize the changes by the improvement of the portfolio\n",
    "\n",
    "cur_investment = [\n",
    "\n",
    "        {\n",
    "            \"stock\": \"GILD\",\n",
    "            \"quantity\": 55,\n",
    "        },\n",
    "        {\n",
    "            \"stock\": \"LLY\",\n",
    "            \"quantity\": 6.68,\n",
    "        },\n",
    "        {\n",
    "            \"stock\": \"REGN\",\n",
    "            \"quantity\": 0.5,\n",
    "        },\n",
    "        {\n",
    "            \"stock\": \"STAN.L\",\n",
    "            \"quantity\": 196.2\n",
    "        },\n",
    "        {\n",
    "            \"stock\": \"601225.SS\",\n",
    "            \"quantity\": 600\n",
    "        },\n",
    "        {\n",
    "            \"stock\": \"600276.SS\",\n",
    "            \"quantity\": 300\n",
    "        },\n",
    "        {\n",
    "            \"stock\": \"600900.SS\",\n",
    "            \"quantity\": 600\n",
    "        },\n",
    "        {\n",
    "            \"stock\": \"600028.SS\",\n",
    "            \"quantity\": 3300\n",
    "        },\n",
    "        {\n",
    "            \"stock\": \"MRK\",\n",
    "            \"quantity\": 11.67\n",
    "        },\n",
    "        {\n",
    "            \"stock\": \"WMT\",\n",
    "            \"quantity\": 37.4\n",
    "        },\n",
    "        {\n",
    "            \"stock\": \"VRTX\",\n",
    "            \"quantity\": 10.32\n",
    "        },\n",
    "        {\n",
    "          \"stock\": \"LULU\",\n",
    "            \"quantity\": 7.18\n",
    "        }\n",
    "    ]\n"
   ]
  },
  {
   "cell_type": "code",
   "execution_count": null,
   "metadata": {},
   "outputs": [],
   "source": [
    "# compute the portfolio value\n",
    "\n",
    "from util import get_currency_pair, read_and_filter_exchange_rates\n",
    "\n",
    "tot_value = 0\n",
    "for stock in cur_investment:\n",
    "    # get the price of the stock which is the last line in the stock price file\n",
    "    file_path = './data/prices/' + stock[\"stock\"] + '.csv'\n",
    "    with open(file_path) as f:\n",
    "        lines = f.readlines()\n",
    "        stock_price = float(lines[-1].split(\",\")[1])\n",
    "        # if the price is zero, use the previous price\n",
    "        if stock_price == 0:\n",
    "            stock_price = float(lines[-2].split(\",\")[1])\n",
    "\n",
    "    if '.' in stock[\"stock\"]:\n",
    "        stock_suffix = '.' + stock[\"stock\"].split(\".\")[-1]\n",
    "        # convert GBX to GBP\n",
    "        if stock_suffix == '.L':\n",
    "            stock_price *= 0.01\n",
    "        exchange_name, needs_inversion, exchange_name_yahoo = get_currency_pair(stock_suffix, \"USD\")\n",
    "        df_rate = read_and_filter_exchange_rates(exchange_name, exchange_name_yahoo)\n",
    "        #print(df_rate)\n",
    "        rate = df_rate[exchange_name].iloc[-1]\n",
    "\n",
    "        if needs_inversion:\n",
    "            rate = 1 / rate\n",
    "\n",
    "        print(stock[\"stock\"], stock_price, stock_price * rate, stock[\"quantity\"] * stock_price * rate)\n",
    "        tot_value += stock[\"quantity\"] * stock_price * rate\n",
    "        stock['value'] = stock[\"quantity\"] * stock_price * rate\n",
    "    else:\n",
    "        print(stock[\"stock\"], stock_price, stock[\"quantity\"] * stock_price)\n",
    "        tot_value += stock[\"quantity\"] * stock_price\n",
    "        stock['value'] = stock[\"quantity\"] * stock_price\n",
    "\n",
    "\n",
    "print(tot_value)\n"
   ]
  },
  {
   "cell_type": "code",
   "execution_count": null,
   "metadata": {},
   "outputs": [],
   "source": [
    "# compute the weight\n",
    "for stock in cur_investment:\n",
    "    stock['weight'] = stock['value'] / tot_value\n",
    "\n",
    "cur_investment"
   ]
  },
  {
   "cell_type": "code",
   "execution_count": null,
   "metadata": {},
   "outputs": [],
   "source": []
  },
  {
   "cell_type": "code",
   "execution_count": null,
   "metadata": {},
   "outputs": [],
   "source": [
    "import pandas as pd\n",
    "import numpy as np\n",
    "import json\n",
    "\n",
    "# enumerate the directory and find out the latest file\n",
    "import os\n",
    "\n",
    "\n",
    "data_dir = \"./processed_data_128\"\n",
    "\n",
    "S = pd.read_pickle(f'{data_dir}/S.pkl')\n",
    "mu = np.load(f'{data_dir}/mu.npy')\n",
    "# read the latest json data\n",
    "\n",
    "\n",
    "latest_file = None\n",
    "latest_time = 0\n",
    "for file in os.listdir(data_dir + '/computed_portfolios'):\n",
    "    if file.endswith(\".json\"):\n",
    "        file_time = os.path.getmtime(data_dir + '/computed_portfolios/' + file)\n",
    "        if file_time > latest_time:\n",
    "            latest_time = file_time\n",
    "            latest_file = file\n",
    "\n",
    "with open(data_dir + '/computed_portfolios/' + latest_file) as f:\n",
    "    tickers_to_buy = json.load(f)\n",
    "\n",
    "with open(f'{data_dir}/valid_tickers.txt', 'r') as f:\n",
    "    valid_tickers = f.read().splitlines()\n"
   ]
  },
  {
   "cell_type": "code",
   "execution_count": null,
   "metadata": {},
   "outputs": [],
   "source": [
    "current_weight = np.zeros(len(valid_tickers))\n",
    "for stock in cur_investment:\n",
    "    if stock[\"stock\"] in valid_tickers:\n",
    "        current_weight[valid_tickers.index(stock[\"stock\"])] = stock[\"weight\"]"
   ]
  },
  {
   "cell_type": "code",
   "execution_count": null,
   "metadata": {},
   "outputs": [],
   "source": [
    "import sys\n",
    "\n",
    "\n",
    "from util import portfolio_log_return, portfolio_return, portfolio_volatility, portfolio_volatility_log_return\n",
    "\n",
    "\n",
    "print(portfolio_volatility(current_weight, S))\n",
    "print(portfolio_return(current_weight, mu))\n",
    "sharpe = portfolio_log_return(current_weight, mu) - portfolio_volatility_log_return(current_weight, S)\n",
    "print(sharpe)"
   ]
  },
  {
   "cell_type": "code",
   "execution_count": null,
   "metadata": {},
   "outputs": [],
   "source": [
    "tickers_to_buy"
   ]
  },
  {
   "cell_type": "code",
   "execution_count": null,
   "metadata": {},
   "outputs": [],
   "source": [
    "def update_weight(weights_attr, unique_ids):\n",
    "  weights = np.zeros(len(unique_ids))\n",
    "  for asset in weights_attr:\n",
    "    asset_id = asset['id']\n",
    "    asset_weight = asset['weight']\n",
    "    asset_index = unique_ids.index(asset_id)\n",
    "    weights[asset_index] = asset_weight\n",
    "  return weights"
   ]
  },
  {
   "cell_type": "code",
   "execution_count": null,
   "metadata": {},
   "outputs": [],
   "source": [
    "tickers_to_buy"
   ]
  },
  {
   "cell_type": "code",
   "execution_count": null,
   "metadata": {},
   "outputs": [],
   "source": [
    "opti_weight = update_weight(tickers_to_buy, valid_tickers)\n",
    "\n",
    "print(portfolio_volatility(opti_weight, S))\n",
    "print(portfolio_return(opti_weight, mu))\n",
    "sharpe = portfolio_log_return(opti_weight, mu) - portfolio_volatility_log_return(opti_weight, S)\n",
    "print(sharpe)"
   ]
  },
  {
   "cell_type": "code",
   "execution_count": null,
   "metadata": {},
   "outputs": [],
   "source": [
    "# to find the steps to optimize my current portfolio to the optimized portfolio\n",
    "# we need to find the difference between the optimized portfolio and the current portfolio\n",
    "# and then prioritize the changes by the improvement of the portfolio\n",
    "\n",
    "old_portfolio = pd.DataFrame(cur_investment)\n",
    "optimized_portfolio = pd.DataFrame(tickers_to_buy)\n",
    "\n",
    "# Merge the two dataframes to compare weights\n",
    "comparison = pd.merge(old_portfolio, optimized_portfolio, left_on='stock', right_on='id', how='outer')\n",
    "comparison['stock'] = comparison['stock'].fillna(comparison['id'])\n",
    "comparison.fillna(0, inplace=True)  # Assuming no stock means 0 weight\n",
    "comparison['weight_difference'] = comparison['weight_y'] - comparison['weight_x']\n",
    "\n",
    "#*comparison['new_quantity'] = comparison['quantity'] * comparison['weight_y'] / comparison['weight_x'] if comparison['weight_x'] != 0 else 0\n",
    "print(comparison[['stock','weight_x', 'weight_y', 'weight_difference', 'quantity']])"
   ]
  },
  {
   "cell_type": "code",
   "execution_count": null,
   "metadata": {},
   "outputs": [],
   "source": [
    "comparison"
   ]
  },
  {
   "cell_type": "code",
   "execution_count": null,
   "metadata": {},
   "outputs": [],
   "source": [
    "def portfolio_volatility_log_return(weights, covariance):\n",
    "    return np.sqrt(np.dot(weights.T, np.dot(covariance, weights)))\n",
    "\n",
    "def portfolio_var_log_return(weights, covariance):\n",
    "    return np.dot(weights.T, np.dot(covariance, weights))\n",
    "\n",
    "def portfolio_log_return(weights, returns, allow_short=False):\n",
    "    return np.sum(np.abs(returns)*weights) if allow_short else np.sum(returns*weights)"
   ]
  },
  {
   "cell_type": "code",
   "execution_count": null,
   "metadata": {},
   "outputs": [],
   "source": [
    "# Initialize the weights array\n",
    "\n",
    "current_weight = np.zeros(len(valid_tickers))\n",
    "for stock in cur_investment:\n",
    "    if stock[\"stock\"] in valid_tickers:\n",
    "        current_weight[valid_tickers.index(stock[\"stock\"])] = stock[\"weight\"]\n",
    "\n",
    "\n",
    "original_sharpe = portfolio_log_return(current_weight, mu) - portfolio_volatility_log_return(current_weight, S)\n",
    "print(f'Original Sharpe ratio: {original_sharpe}')\n",
    "# Optimize one stock at a time and adjust other weights proportionally\n",
    "\n",
    "new_weights = current_weight.copy()\n",
    "for i in range(20):\n",
    "    results = []\n",
    "    print(f'Starting iteration {i} optimization...')\n",
    "    for index, row in comparison.iterrows():\n",
    "        new_weights_try = new_weights.copy()\n",
    "        stock_name = comparison.loc[index, 'stock']\n",
    "        stock_idx = valid_tickers.index(stock_name)\n",
    "        # Adjust the targeted stock weight\n",
    "        new_weights_try[stock_idx] = comparison.loc[index, 'weight_y']\n",
    "        # Adjust the rest to ensure total sum remains 1\n",
    "        total_adjusted_weights = np.sum(new_weights_try) - new_weights_try[stock_idx]\n",
    "        scale_factor = (1 - new_weights_try[stock_idx]) / total_adjusted_weights\n",
    "        for j in range(len(new_weights_try)):\n",
    "            if j != stock_idx:\n",
    "                new_weights_try[j] *= scale_factor\n",
    "\n",
    "        new_sharpe = portfolio_log_return(new_weights_try, mu) - portfolio_volatility_log_return(new_weights_try, S)\n",
    "        results.append((comparison.loc[index, 'stock'], new_sharpe, new_sharpe - original_sharpe, new_weights_try, comparison.loc[index, 'weight_difference']))\n",
    "\n",
    "    results.sort(key=lambda x: x[2], reverse=True)\n",
    "\n",
    "    stock_name = results[0][0]\n",
    "    stock_idx = valid_tickers.index(stock_name)\n",
    "    # Adjust the targeted stock weight\n",
    "    new_weights = results[0][3]\n",
    "    new_sharpe = results[0][1]\n",
    "    # remove the row from comparison\n",
    "    comparison = comparison[comparison['stock'] != stock_name]\n",
    "\n",
    "    original_sharpe = new_sharpe\n",
    "\n",
    "    print(f'Iteration {i} optimization result:')\n",
    "    print(f'Optimized ticker: {stock_name}')\n",
    "    print(f'Sharpe ratio: {results[0][1]}')\n",
    "    print(f'Improvement: {results[0][2]}')\n",
    "    print(f'Weight difference: {results[0][4]}')\n",
    "    \n"
   ]
  },
  {
   "cell_type": "code",
   "execution_count": null,
   "metadata": {},
   "outputs": [],
   "source": [
    "optimized_portfolio"
   ]
  },
  {
   "cell_type": "code",
   "execution_count": null,
   "metadata": {},
   "outputs": [],
   "source": []
  },
  {
   "cell_type": "code",
   "execution_count": null,
   "metadata": {},
   "outputs": [],
   "source": []
  },
  {
   "cell_type": "code",
   "execution_count": null,
   "metadata": {},
   "outputs": [],
   "source": []
  },
  {
   "cell_type": "code",
   "execution_count": null,
   "metadata": {},
   "outputs": [],
   "source": []
  }
 ],
 "metadata": {
  "kernelspec": {
   "display_name": "stock",
   "language": "python",
   "name": "python3"
  },
  "language_info": {
   "codemirror_mode": {
    "name": "ipython",
    "version": 3
   },
   "file_extension": ".py",
   "mimetype": "text/x-python",
   "name": "python",
   "nbconvert_exporter": "python",
   "pygments_lexer": "ipython3",
   "version": "3.11.5"
  }
 },
 "nbformat": 4,
 "nbformat_minor": 2
}
